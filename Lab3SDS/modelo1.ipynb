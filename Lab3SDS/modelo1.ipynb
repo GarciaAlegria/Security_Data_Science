{
 "cells": [
  {
   "cell_type": "code",
   "execution_count": 1,
   "metadata": {},
   "outputs": [
    {
     "name": "stdout",
     "output_type": "stream",
     "text": [
      "                                              sha256  labels  \\\n",
      "0  5c18291c481a192ed5003084dab2d8a117fd3736359218...       0   \n",
      "1  4683faf3da550ffb594cf5513c4cbb34f64df85f27fd1c...       0   \n",
      "2  9a0aea1c7290031d7c3429d0e921f107282cc6eab854ee...       0   \n",
      "3  e0f3e4d5f50afd9c31e51dd9941c5a52d57c7c524f5d11...       0   \n",
      "4  ec2b6d29992f13e74015ff0b129150b4afae15c593e4b7...       0   \n",
      "\n",
      "                     0                        1                   2  \\\n",
      "0         LdrUnloadDll           CoUninitialize          NtQueryKey   \n",
      "1         NtOpenMutant      GetForegroundWindow          NtQueryKey   \n",
      "2  GetForegroundWindow              DrawTextExW       GetSystemInfo   \n",
      "3      NtQueryValueKey             LdrUnloadDll  GlobalMemoryStatus   \n",
      "4         LdrUnloadDll  GetSystemTimeAsFileTime           NtOpenKey   \n",
      "\n",
      "                   3                            4                       5  \\\n",
      "0  NtDuplicateObject            GetShortPathNameW           GetSystemInfo   \n",
      "1        DrawTextExW         NtSetInformationFile        RegQueryValueExA   \n",
      "2  IsDebuggerPresent   GetSystemWindowsDirectoryW         NtQueryValueKey   \n",
      "3      WriteConsoleA                    NtOpenKey  LdrGetProcedureAddress   \n",
      "4         WSAStartup  SetUnhandledExceptionFilter      NtTerminateProcess   \n",
      "\n",
      "                        6                           7  ... Unnamed: 167  \\\n",
      "0       IsDebuggerPresent  GetSystemWindowsDirectoryW  ...          NaN   \n",
      "1  LdrGetProcedureAddress              CoUninitialize  ...          NaN   \n",
      "2             RegCloseKey          GetFileAttributesW  ...          NaN   \n",
      "3      NtTerminateProcess                     NtClose  ...          NaN   \n",
      "4                 NtClose     NtAllocateVirtualMemory  ...          NaN   \n",
      "\n",
      "  Unnamed: 168 Unnamed: 169 Unnamed: 170 Unnamed: 171 Unnamed: 172  \\\n",
      "0          NaN          NaN          NaN          NaN          NaN   \n",
      "1          NaN          NaN          NaN          NaN          NaN   \n",
      "2          NaN          NaN          NaN          NaN          NaN   \n",
      "3          NaN          NaN          NaN          NaN          NaN   \n",
      "4          NaN          NaN          NaN          NaN          NaN   \n",
      "\n",
      "  Unnamed: 173 Unnamed: 174 Unnamed: 175 Unnamed: 176  \n",
      "0          NaN          NaN          NaN          NaN  \n",
      "1          NaN          NaN          NaN          NaN  \n",
      "2          NaN          NaN          NaN          NaN  \n",
      "3          NaN          NaN          NaN          NaN  \n",
      "4          NaN          NaN          NaN          NaN  \n",
      "\n",
      "[5 rows x 177 columns]\n"
     ]
    }
   ],
   "source": [
    "import pandas as pd\n",
    "\n",
    "df = pd.read_csv('malware-dataset.csv')\n",
    "\n",
    "print(df.head())"
   ]
  },
  {
   "cell_type": "code",
   "execution_count": null,
   "metadata": {},
   "outputs": [],
   "source": []
  }
 ],
 "metadata": {
  "kernelspec": {
   "display_name": "Python 3",
   "language": "python",
   "name": "python3"
  },
  "language_info": {
   "codemirror_mode": {
    "name": "ipython",
    "version": 3
   },
   "file_extension": ".py",
   "mimetype": "text/x-python",
   "name": "python",
   "nbconvert_exporter": "python",
   "pygments_lexer": "ipython3",
   "version": "3.11.9"
  }
 },
 "nbformat": 4,
 "nbformat_minor": 2
}
