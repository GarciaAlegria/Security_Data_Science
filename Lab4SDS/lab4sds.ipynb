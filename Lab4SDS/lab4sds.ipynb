{
 "cells": [
  {
   "cell_type": "markdown",
   "metadata": {},
   "source": [
    "# Laboratorio 4 Malware families\n",
    "## Security Data Science\n",
    "### Universidad del valle de Guatemala\n",
    "\n",
    "Abner Ivan Garcia - 21285\n",
    "\n",
    "Oscar Esteba Donis - 21610"
   ]
  },
  {
   "cell_type": "markdown",
   "metadata": {},
   "source": [
    "# Parte 1\n",
    "## Creación del dataset"
   ]
  },
  {
   "cell_type": "code",
   "execution_count": 89,
   "metadata": {},
   "outputs": [],
   "source": [
    "import os\n",
    "import pefile\n",
    "import pandas as pd\n",
    "import numpy as np\n",
    "import matplotlib.pyplot as plt\n",
    "from matplotlib.image import imread\n",
    "from sklearn.preprocessing import MultiLabelBinarizer, MinMaxScaler\n",
    "from sklearn.cluster import DBSCAN\n",
    "from sklearn.cluster import KMeans\n",
    "from sklearn_extra.cluster import KMedoids\n",
    "from sklearn.metrics import silhouette_score"
   ]
  },
  {
   "cell_type": "code",
   "execution_count": 90,
   "metadata": {},
   "outputs": [
    {
     "name": "stdout",
     "output_type": "stream",
     "text": [
      "'DOS Header magic not found.'\n",
      "Encabezados de nuestro Dataset creado:\n",
      "   Tamaño del archivo  Tiempo de creación  Tiempo de modificación  \\\n",
      "0              285184        1.741100e+09            1.535140e+09   \n",
      "1               15360        1.741100e+09            1.535140e+09   \n",
      "2              295424        1.741100e+09            1.535140e+09   \n",
      "3               15360        1.741100e+09            1.535140e+09   \n",
      "4               16896        1.741100e+09            1.535140e+09   \n",
      "\n",
      "   Número de secciones          Secciones del archivo  \\\n",
      "0                    3             [UPX0, UPX1, UPX2]   \n",
      "1                    3         [.text, .rdata, .data]   \n",
      "2                    3            [UPX0, UPX1, .rsrc]   \n",
      "3                    3         [.text, .rdata, .data]   \n",
      "4                    4  [.text, .rdata, .data, .rsrc]   \n",
      "\n",
      "                     Llamadas a funciones importadas  \\\n",
      "0  [RegSaveKeyA, BitBlt, LoadLibraryA, ExitProces...   \n",
      "1  [CreateFileA, LocalAlloc, Sleep, CreateThread,...   \n",
      "2  [RegSaveKeyA, BitBlt, LoadLibraryA, GetProcAdd...   \n",
      "3  [CreateFileA, LocalAlloc, Sleep, CreateThread,...   \n",
      "4  [GetModuleHandleA, GetWindowsDirectoryA, GetMo...   \n",
      "\n",
      "  Cadenas de texto incrustadas  \n",
      "0                           []  \n",
      "1                           []  \n",
      "2                           []  \n",
      "3                           []  \n",
      "4                           []  \n"
     ]
    }
   ],
   "source": [
    "dataset = [] # Lista que contendrá las instancias de nuestro dataset\n",
    "\n",
    "for filename in os.listdir(\"MALWR\"): # Iteramos sobre los archivos en la carpeta MALWR\n",
    "    filepath = os.path.join(\"MALWR\", filename) # Obtenemos la ruta completa del archivo\n",
    "\n",
    "    try:\n",
    "        pe = pefile.PE(filepath) # Cargamos el archivo PE en memoria\n",
    "        file_size = os.path.getsize(filepath) # Obtenemos el tamaño del archivo en bytes\n",
    "        creation_time = os.path.getctime(filepath) # Obtenemos la fecha de creación del archivo\n",
    "        modification_time = os.path.getmtime(filepath) # Obtenemos la fecha de modificación del archivo\n",
    "\n",
    "        sections = [section.Name.decode().strip('\\x00') for section in pe.sections] # Obtenemos las secciones del archivo\n",
    "        num_sections = len(sections) # Obtenemos el número de secciones del archivo\n",
    "\n",
    "        # Llamadas a funciones importadas\n",
    "        imported_functions = [] # Lista que contendrá las funciones importadas\n",
    "        for entry in pe.DIRECTORY_ENTRY_IMPORT: # Iteramos sobre las entradas de la tabla de importación\n",
    "            for function in entry.imports: # Iteramos sobre las funciones importadas\n",
    "                imported_functions.append(function.name.decode()) # Agregamos la función a la lista\n",
    "\n",
    "        embedded_strings = [] # Lista que contendrá las cadenas de texto incrustadas\n",
    "        try:\n",
    "            for s in pe.strings: # Iteramos sobre las cadenas de texto incrustadas\n",
    "                if isinstance(s, bytes): # Si la cadena es de tipo bytes la decodificamos\n",
    "                    embedded_strings.append(s.decode(errors='ignore')) # Agregamos la cadena a la lista\n",
    "                else:\n",
    "                    embedded_strings.append(s) # Agregamos la cadena a la lista\n",
    "        except AttributeError:\n",
    "            pass\n",
    "\n",
    "        instance = [file_size, creation_time, modification_time, num_sections, sections, imported_functions, embedded_strings] # Creamos una instancia con los atributos del archivo\n",
    "        dataset.append(instance) # Agregamos la instancia a nuestro dataset\n",
    "    except Exception as e:\n",
    "        print(f\"{str(e)}\")\n",
    "\n",
    "columns = [\"Tamaño del archivo\", \"Tiempo de creación\", \"Tiempo de modificación\", \"Número de secciones\", \"Secciones del archivo\", \"Llamadas a funciones importadas\", \"Cadenas de texto incrustadas\"]\n",
    "df = pd.DataFrame(dataset, columns=columns)\n",
    "print(\"Encabezados de nuestro Dataset creado:\")\n",
    "print(df.head())"
   ]
  },
  {
   "cell_type": "code",
   "execution_count": 91,
   "metadata": {},
   "outputs": [
    {
     "data": {
      "application/vnd.microsoft.datawrangler.viewer.v0+json": {
       "columns": [
        {
         "name": "index",
         "rawType": "int64",
         "type": "integer"
        },
        {
         "name": "Tamaño del archivo",
         "rawType": "int64",
         "type": "integer"
        },
        {
         "name": "Tiempo de creación",
         "rawType": "float64",
         "type": "float"
        },
        {
         "name": "Tiempo de modificación",
         "rawType": "float64",
         "type": "float"
        },
        {
         "name": "Número de secciones",
         "rawType": "int64",
         "type": "integer"
        },
        {
         "name": "Secciones del archivo",
         "rawType": "object",
         "type": "unknown"
        },
        {
         "name": "Llamadas a funciones importadas",
         "rawType": "object",
         "type": "unknown"
        },
        {
         "name": "Cadenas de texto incrustadas",
         "rawType": "object",
         "type": "unknown"
        }
       ],
       "conversionMethod": "pd.DataFrame",
       "ref": "2efbf3b0-8523-4435-a959-5385bb448503",
       "rows": [
        [
         "0",
         "285184",
         "1741100086.042123",
         "1535140403.0",
         "3",
         "['UPX0', 'UPX1', 'UPX2']",
         "['RegSaveKeyA', 'BitBlt', 'LoadLibraryA', 'ExitProcess', 'GetProcAddress', 'VirtualProtect', '_iob', 'Netbios', 'EnumProcessModules', 'GetDC', 'send']",
         "[]"
        ],
        [
         "1",
         "15360",
         "1741100086.0502505",
         "1535140398.0",
         "3",
         "['.text', '.rdata', '.data']",
         "['CreateFileA', 'LocalAlloc', 'Sleep', 'CreateThread', 'CreateMutexA', 'CopyFileW', 'GetFileSize', 'CreateProcessA', 'GetEnvironmentVariableW', 'GetShortPathNameW', 'GetStartupInfoA', 'GetModuleHandleA', 'ReadFile', 'LocalFree', 'GetLastError', 'GetModuleFileNameW', 'CloseHandle', 'SendMessageA', 'FindWindowExA', 'RegQueryValueExA', 'RegCloseKey', 'RegSetValueExW', 'RegOpenKeyExA', 'SHGetSpecialFolderPathW', 'ShellExecuteW', '_controlfp', '_except_handler3', '__set_app_type', 'memset', '__CxxFrameHandler', 'strlen', 'sprintf', 'memcpy', 'strcpy', 'strcat', '_mbsnbcpy', '_mbsnbcmp', 'atol', '_mbscmp', 'atoi', 'fclose', 'fwrite', 'fopen', 'strstr', 'wcslen', 'wcstombs', 'setlocale', 'wcscmp', 'wcscat', 'mbstowcs', 'wcsrchr', 'wcscpy', 'getenv', 'strcmp', 'time', 'free', '__dllonexit', '_onexit', '_exit', '_XcptFilter', 'exit', '_acmdln', '__getmainargs', '_initterm', '__setusermatherr', '_adjust_fdiv', '__p__commode', '__p__fmode', '_strnicmp', 'HttpAddRequestHeadersA', 'HttpOpenRequestA', 'HttpEndRequestA', 'InternetWriteFile', 'HttpSendRequestA', 'InternetReadFile', 'HttpQueryInfoA', 'InternetAttemptConnect', 'InternetCloseHandle', 'InternetConnectA', 'InternetOpenA', 'HttpSendRequestExA', 'gethostbyname', 'inet_ntoa', 'WSAStartup', 'gethostname']",
         "[]"
        ],
        [
         "2",
         "295424",
         "1741100086.058689",
         "1535140403.0",
         "3",
         "['UPX0', 'UPX1', '.rsrc']",
         "['RegSaveKeyA', 'BitBlt', 'LoadLibraryA', 'GetProcAddress', 'VirtualProtect', '_iob', 'Netbios', 'EnumProcessModules', 'GetDC', 'WSASetLastError']",
         "[]"
        ],
        [
         "3",
         "15360",
         "1741100086.0677638",
         "1535140398.0",
         "3",
         "['.text', '.rdata', '.data']",
         "['CreateFileA', 'LocalAlloc', 'Sleep', 'CreateThread', 'CreateMutexA', 'CopyFileW', 'GetFileSize', 'CreateProcessA', 'GetEnvironmentVariableW', 'GetShortPathNameW', 'GetStartupInfoA', 'GetModuleHandleA', 'ReadFile', 'LocalFree', 'GetLastError', 'GetModuleFileNameW', 'CloseHandle', 'SendMessageA', 'FindWindowExA', 'RegQueryValueExA', 'RegCloseKey', 'RegSetValueExW', 'RegOpenKeyExA', 'SHGetSpecialFolderPathW', 'ShellExecuteW', '_controlfp', '_except_handler3', '__set_app_type', 'memset', '__CxxFrameHandler', 'strlen', 'sprintf', 'memcpy', 'strcpy', 'strcat', '_mbsnbcpy', '_mbsnbcmp', 'atol', '_mbscmp', 'atoi', 'fclose', 'fwrite', 'fopen', 'strstr', 'wcslen', 'wcstombs', 'setlocale', 'wcscmp', 'wcscat', 'mbstowcs', 'wcsrchr', 'wcscpy', 'getenv', 'strcmp', 'time', 'free', '__dllonexit', '_onexit', '_exit', '_XcptFilter', 'exit', '_acmdln', '__getmainargs', '_initterm', '__setusermatherr', '_adjust_fdiv', '__p__commode', '__p__fmode', '_strnicmp', 'HttpAddRequestHeadersA', 'HttpOpenRequestA', 'HttpEndRequestA', 'InternetWriteFile', 'HttpSendRequestA', 'InternetReadFile', 'HttpQueryInfoA', 'InternetAttemptConnect', 'InternetCloseHandle', 'InternetConnectA', 'InternetOpenA', 'HttpSendRequestExA', 'gethostbyname', 'inet_ntoa', 'WSAStartup', 'gethostname']",
         "[]"
        ],
        [
         "4",
         "16896",
         "1741100086.07527",
         "1535140398.0",
         "4",
         "['.text', '.rdata', '.data', '.rsrc']",
         "['GetModuleHandleA', 'GetWindowsDirectoryA', 'GetModuleFileNameA', 'CopyFileA', 'OutputDebugStringA', 'CreateProcessA', 'CreateMutexA', 'CreateThread', 'Sleep', 'LocalAlloc', 'CreateFileA', 'GetFileSize', 'ReadFile', 'LocalFree', 'GetLastError', 'GetStartupInfoA', 'CloseHandle', 'SendMessageA', 'FindWindowExA', 'OpenSCManagerA', 'CreateServiceA', 'ChangeServiceConfig2A', 'OpenServiceA', 'CloseServiceHandle', 'StartServiceA', 'QueryServiceStatus', 'RegisterServiceCtrlHandlerA', 'SetServiceStatus', 'StartServiceCtrlDispatcherA', 'RegOpenKeyExA', 'RegQueryValueExA', 'RegCloseKey', '_controlfp', 'memset', '__CxxFrameHandler', 'strlen', 'sprintf', 'memcpy', 'strcpy', 'strcat', '_mbsnbcpy', '_mbsnbcmp', 'atol', '_mbscmp', 'atoi', 'fclose', 'fwrite', 'fopen', 'strstr', 'getenv', 'strcmp', 'time', 'printf', 'free', '__dllonexit', '_onexit', '_exit', '_XcptFilter', 'exit', '_acmdln', '__getmainargs', '_initterm', '__setusermatherr', '_adjust_fdiv', '__p__commode', '__p__fmode', '__set_app_type', '_except_handler3', '_strnicmp', 'HttpAddRequestHeadersA', 'HttpOpenRequestA', 'HttpEndRequestA', 'InternetWriteFile', 'HttpSendRequestExA', 'InternetReadFile', 'HttpSendRequestA', 'InternetCloseHandle', 'InternetOpenA', 'InternetAttemptConnect', 'InternetConnectA', 'HttpQueryInfoA', 'gethostbyname', 'inet_ntoa', 'WSAStartup', 'gethostname']",
         "[]"
        ]
       ],
       "shape": {
        "columns": 7,
        "rows": 5
       }
      },
      "text/html": [
       "<div>\n",
       "<style scoped>\n",
       "    .dataframe tbody tr th:only-of-type {\n",
       "        vertical-align: middle;\n",
       "    }\n",
       "\n",
       "    .dataframe tbody tr th {\n",
       "        vertical-align: top;\n",
       "    }\n",
       "\n",
       "    .dataframe thead th {\n",
       "        text-align: right;\n",
       "    }\n",
       "</style>\n",
       "<table border=\"1\" class=\"dataframe\">\n",
       "  <thead>\n",
       "    <tr style=\"text-align: right;\">\n",
       "      <th></th>\n",
       "      <th>Tamaño del archivo</th>\n",
       "      <th>Tiempo de creación</th>\n",
       "      <th>Tiempo de modificación</th>\n",
       "      <th>Número de secciones</th>\n",
       "      <th>Secciones del archivo</th>\n",
       "      <th>Llamadas a funciones importadas</th>\n",
       "      <th>Cadenas de texto incrustadas</th>\n",
       "    </tr>\n",
       "  </thead>\n",
       "  <tbody>\n",
       "    <tr>\n",
       "      <th>0</th>\n",
       "      <td>285184</td>\n",
       "      <td>1.741100e+09</td>\n",
       "      <td>1.535140e+09</td>\n",
       "      <td>3</td>\n",
       "      <td>[UPX0, UPX1, UPX2]</td>\n",
       "      <td>[RegSaveKeyA, BitBlt, LoadLibraryA, ExitProces...</td>\n",
       "      <td>[]</td>\n",
       "    </tr>\n",
       "    <tr>\n",
       "      <th>1</th>\n",
       "      <td>15360</td>\n",
       "      <td>1.741100e+09</td>\n",
       "      <td>1.535140e+09</td>\n",
       "      <td>3</td>\n",
       "      <td>[.text, .rdata, .data]</td>\n",
       "      <td>[CreateFileA, LocalAlloc, Sleep, CreateThread,...</td>\n",
       "      <td>[]</td>\n",
       "    </tr>\n",
       "    <tr>\n",
       "      <th>2</th>\n",
       "      <td>295424</td>\n",
       "      <td>1.741100e+09</td>\n",
       "      <td>1.535140e+09</td>\n",
       "      <td>3</td>\n",
       "      <td>[UPX0, UPX1, .rsrc]</td>\n",
       "      <td>[RegSaveKeyA, BitBlt, LoadLibraryA, GetProcAdd...</td>\n",
       "      <td>[]</td>\n",
       "    </tr>\n",
       "    <tr>\n",
       "      <th>3</th>\n",
       "      <td>15360</td>\n",
       "      <td>1.741100e+09</td>\n",
       "      <td>1.535140e+09</td>\n",
       "      <td>3</td>\n",
       "      <td>[.text, .rdata, .data]</td>\n",
       "      <td>[CreateFileA, LocalAlloc, Sleep, CreateThread,...</td>\n",
       "      <td>[]</td>\n",
       "    </tr>\n",
       "    <tr>\n",
       "      <th>4</th>\n",
       "      <td>16896</td>\n",
       "      <td>1.741100e+09</td>\n",
       "      <td>1.535140e+09</td>\n",
       "      <td>4</td>\n",
       "      <td>[.text, .rdata, .data, .rsrc]</td>\n",
       "      <td>[GetModuleHandleA, GetWindowsDirectoryA, GetMo...</td>\n",
       "      <td>[]</td>\n",
       "    </tr>\n",
       "  </tbody>\n",
       "</table>\n",
       "</div>"
      ],
      "text/plain": [
       "   Tamaño del archivo  Tiempo de creación  Tiempo de modificación  \\\n",
       "0              285184        1.741100e+09            1.535140e+09   \n",
       "1               15360        1.741100e+09            1.535140e+09   \n",
       "2              295424        1.741100e+09            1.535140e+09   \n",
       "3               15360        1.741100e+09            1.535140e+09   \n",
       "4               16896        1.741100e+09            1.535140e+09   \n",
       "\n",
       "   Número de secciones          Secciones del archivo  \\\n",
       "0                    3             [UPX0, UPX1, UPX2]   \n",
       "1                    3         [.text, .rdata, .data]   \n",
       "2                    3            [UPX0, UPX1, .rsrc]   \n",
       "3                    3         [.text, .rdata, .data]   \n",
       "4                    4  [.text, .rdata, .data, .rsrc]   \n",
       "\n",
       "                     Llamadas a funciones importadas  \\\n",
       "0  [RegSaveKeyA, BitBlt, LoadLibraryA, ExitProces...   \n",
       "1  [CreateFileA, LocalAlloc, Sleep, CreateThread,...   \n",
       "2  [RegSaveKeyA, BitBlt, LoadLibraryA, GetProcAdd...   \n",
       "3  [CreateFileA, LocalAlloc, Sleep, CreateThread,...   \n",
       "4  [GetModuleHandleA, GetWindowsDirectoryA, GetMo...   \n",
       "\n",
       "  Cadenas de texto incrustadas  \n",
       "0                           []  \n",
       "1                           []  \n",
       "2                           []  \n",
       "3                           []  \n",
       "4                           []  "
      ]
     },
     "execution_count": 91,
     "metadata": {},
     "output_type": "execute_result"
    }
   ],
   "source": [
    "df.head()"
   ]
  },
  {
   "cell_type": "code",
   "execution_count": 92,
   "metadata": {},
   "outputs": [
    {
     "data": {
      "application/vnd.microsoft.datawrangler.viewer.v0+json": {
       "columns": [
        {
         "name": "index",
         "rawType": "object",
         "type": "string"
        },
        {
         "name": "Tamaño del archivo",
         "rawType": "float64",
         "type": "float"
        },
        {
         "name": "Tiempo de creación",
         "rawType": "float64",
         "type": "float"
        },
        {
         "name": "Tiempo de modificación",
         "rawType": "float64",
         "type": "float"
        },
        {
         "name": "Número de secciones",
         "rawType": "float64",
         "type": "float"
        }
       ],
       "conversionMethod": "pd.DataFrame",
       "ref": "1adbd291-0313-4b2f-a18f-5a6d28176b10",
       "rows": [
        [
         "count",
         "13.0",
         "13.0",
         "13.0",
         "13.0"
        ],
        [
         "mean",
         "104487.38461538461",
         "1741100086.0967011",
         "1535140399.9230769",
         "3.076923076923077"
        ],
        [
         "std",
         "139879.8089203361",
         "0.035914148175730576",
         "3.0946604138294527",
         "0.2773500981126146"
        ],
        [
         "min",
         "14336.0",
         "1741100086.042123",
         "1535140398.0",
         "3.0"
        ],
        [
         "25%",
         "15360.0",
         "1741100086.0677638",
         "1535140398.0",
         "3.0"
        ],
        [
         "50%",
         "15360.0",
         "1741100086.0975037",
         "1535140398.0",
         "3.0"
        ],
        [
         "75%",
         "285184.0",
         "1741100086.1264062",
         "1535140403.0",
         "3.0"
        ],
        [
         "max",
         "344576.0",
         "1741100086.1426039",
         "1535140406.0",
         "4.0"
        ]
       ],
       "shape": {
        "columns": 4,
        "rows": 8
       }
      },
      "text/html": [
       "<div>\n",
       "<style scoped>\n",
       "    .dataframe tbody tr th:only-of-type {\n",
       "        vertical-align: middle;\n",
       "    }\n",
       "\n",
       "    .dataframe tbody tr th {\n",
       "        vertical-align: top;\n",
       "    }\n",
       "\n",
       "    .dataframe thead th {\n",
       "        text-align: right;\n",
       "    }\n",
       "</style>\n",
       "<table border=\"1\" class=\"dataframe\">\n",
       "  <thead>\n",
       "    <tr style=\"text-align: right;\">\n",
       "      <th></th>\n",
       "      <th>Tamaño del archivo</th>\n",
       "      <th>Tiempo de creación</th>\n",
       "      <th>Tiempo de modificación</th>\n",
       "      <th>Número de secciones</th>\n",
       "    </tr>\n",
       "  </thead>\n",
       "  <tbody>\n",
       "    <tr>\n",
       "      <th>count</th>\n",
       "      <td>13.000000</td>\n",
       "      <td>1.300000e+01</td>\n",
       "      <td>1.300000e+01</td>\n",
       "      <td>13.000000</td>\n",
       "    </tr>\n",
       "    <tr>\n",
       "      <th>mean</th>\n",
       "      <td>104487.384615</td>\n",
       "      <td>1.741100e+09</td>\n",
       "      <td>1.535140e+09</td>\n",
       "      <td>3.076923</td>\n",
       "    </tr>\n",
       "    <tr>\n",
       "      <th>std</th>\n",
       "      <td>139879.808920</td>\n",
       "      <td>3.591415e-02</td>\n",
       "      <td>3.094660e+00</td>\n",
       "      <td>0.277350</td>\n",
       "    </tr>\n",
       "    <tr>\n",
       "      <th>min</th>\n",
       "      <td>14336.000000</td>\n",
       "      <td>1.741100e+09</td>\n",
       "      <td>1.535140e+09</td>\n",
       "      <td>3.000000</td>\n",
       "    </tr>\n",
       "    <tr>\n",
       "      <th>25%</th>\n",
       "      <td>15360.000000</td>\n",
       "      <td>1.741100e+09</td>\n",
       "      <td>1.535140e+09</td>\n",
       "      <td>3.000000</td>\n",
       "    </tr>\n",
       "    <tr>\n",
       "      <th>50%</th>\n",
       "      <td>15360.000000</td>\n",
       "      <td>1.741100e+09</td>\n",
       "      <td>1.535140e+09</td>\n",
       "      <td>3.000000</td>\n",
       "    </tr>\n",
       "    <tr>\n",
       "      <th>75%</th>\n",
       "      <td>285184.000000</td>\n",
       "      <td>1.741100e+09</td>\n",
       "      <td>1.535140e+09</td>\n",
       "      <td>3.000000</td>\n",
       "    </tr>\n",
       "    <tr>\n",
       "      <th>max</th>\n",
       "      <td>344576.000000</td>\n",
       "      <td>1.741100e+09</td>\n",
       "      <td>1.535140e+09</td>\n",
       "      <td>4.000000</td>\n",
       "    </tr>\n",
       "  </tbody>\n",
       "</table>\n",
       "</div>"
      ],
      "text/plain": [
       "       Tamaño del archivo  Tiempo de creación  Tiempo de modificación  \\\n",
       "count           13.000000        1.300000e+01            1.300000e+01   \n",
       "mean        104487.384615        1.741100e+09            1.535140e+09   \n",
       "std         139879.808920        3.591415e-02            3.094660e+00   \n",
       "min          14336.000000        1.741100e+09            1.535140e+09   \n",
       "25%          15360.000000        1.741100e+09            1.535140e+09   \n",
       "50%          15360.000000        1.741100e+09            1.535140e+09   \n",
       "75%         285184.000000        1.741100e+09            1.535140e+09   \n",
       "max         344576.000000        1.741100e+09            1.535140e+09   \n",
       "\n",
       "       Número de secciones  \n",
       "count            13.000000  \n",
       "mean              3.076923  \n",
       "std               0.277350  \n",
       "min               3.000000  \n",
       "25%               3.000000  \n",
       "50%               3.000000  \n",
       "75%               3.000000  \n",
       "max               4.000000  "
      ]
     },
     "execution_count": 92,
     "metadata": {},
     "output_type": "execute_result"
    }
   ],
   "source": [
    "df.describe()"
   ]
  },
  {
   "cell_type": "code",
   "execution_count": 93,
   "metadata": {},
   "outputs": [
    {
     "name": "stdout",
     "output_type": "stream",
     "text": [
      "<class 'pandas.core.frame.DataFrame'>\n",
      "RangeIndex: 13 entries, 0 to 12\n",
      "Data columns (total 7 columns):\n",
      " #   Column                           Non-Null Count  Dtype  \n",
      "---  ------                           --------------  -----  \n",
      " 0   Tamaño del archivo               13 non-null     int64  \n",
      " 1   Tiempo de creación               13 non-null     float64\n",
      " 2   Tiempo de modificación           13 non-null     float64\n",
      " 3   Número de secciones              13 non-null     int64  \n",
      " 4   Secciones del archivo            13 non-null     object \n",
      " 5   Llamadas a funciones importadas  13 non-null     object \n",
      " 6   Cadenas de texto incrustadas     13 non-null     object \n",
      "dtypes: float64(2), int64(2), object(3)\n",
      "memory usage: 856.0+ bytes\n"
     ]
    }
   ],
   "source": [
    "df.info()"
   ]
  },
  {
   "cell_type": "markdown",
   "metadata": {},
   "source": [
    "## Exploración y pre-procesamiento de datos"
   ]
  },
  {
   "cell_type": "code",
   "execution_count": 94,
   "metadata": {},
   "outputs": [
    {
     "name": "stdout",
     "output_type": "stream",
     "text": [
      "Cantidad de cadenas incrustadas\n",
      "0    13\n",
      "Name: count, dtype: int64\n"
     ]
    }
   ],
   "source": [
    "df['Cantidad de cadenas incrustadas'] = df['Cadenas de texto incrustadas'].apply(len)\n",
    "print(df['Cantidad de cadenas incrustadas'].value_counts())"
   ]
  },
  {
   "cell_type": "code",
   "execution_count": 95,
   "metadata": {},
   "outputs": [],
   "source": [
    "df.drop('Cadenas de texto incrustadas', axis=1, inplace=True)\n",
    "df.drop('Cantidad de cadenas incrustadas', axis=1, inplace=True)"
   ]
  },
  {
   "cell_type": "code",
   "execution_count": 96,
   "metadata": {},
   "outputs": [
    {
     "name": "stdout",
     "output_type": "stream",
     "text": [
      "Encabezado del Dataset con Nombres de Columnas Actualizados:\n"
     ]
    },
    {
     "data": {
      "application/vnd.microsoft.datawrangler.viewer.v0+json": {
       "columns": [
        {
         "name": "index",
         "rawType": "int64",
         "type": "integer"
        },
        {
         "name": "file_size",
         "rawType": "int64",
         "type": "integer"
        },
        {
         "name": "creation_time",
         "rawType": "float64",
         "type": "float"
        },
        {
         "name": "modification_time",
         "rawType": "float64",
         "type": "float"
        },
        {
         "name": "num_sections",
         "rawType": "int64",
         "type": "integer"
        },
        {
         "name": "file_sections",
         "rawType": "object",
         "type": "unknown"
        },
        {
         "name": "imported_function_calls",
         "rawType": "object",
         "type": "unknown"
        }
       ],
       "conversionMethod": "pd.DataFrame",
       "ref": "d460ee30-520a-4bab-bbb5-95fef10507a1",
       "rows": [
        [
         "0",
         "285184",
         "1741100086.042123",
         "1535140403.0",
         "3",
         "['UPX0', 'UPX1', 'UPX2']",
         "['RegSaveKeyA', 'BitBlt', 'LoadLibraryA', 'ExitProcess', 'GetProcAddress', 'VirtualProtect', '_iob', 'Netbios', 'EnumProcessModules', 'GetDC', 'send']"
        ],
        [
         "1",
         "15360",
         "1741100086.0502505",
         "1535140398.0",
         "3",
         "['.text', '.rdata', '.data']",
         "['CreateFileA', 'LocalAlloc', 'Sleep', 'CreateThread', 'CreateMutexA', 'CopyFileW', 'GetFileSize', 'CreateProcessA', 'GetEnvironmentVariableW', 'GetShortPathNameW', 'GetStartupInfoA', 'GetModuleHandleA', 'ReadFile', 'LocalFree', 'GetLastError', 'GetModuleFileNameW', 'CloseHandle', 'SendMessageA', 'FindWindowExA', 'RegQueryValueExA', 'RegCloseKey', 'RegSetValueExW', 'RegOpenKeyExA', 'SHGetSpecialFolderPathW', 'ShellExecuteW', '_controlfp', '_except_handler3', '__set_app_type', 'memset', '__CxxFrameHandler', 'strlen', 'sprintf', 'memcpy', 'strcpy', 'strcat', '_mbsnbcpy', '_mbsnbcmp', 'atol', '_mbscmp', 'atoi', 'fclose', 'fwrite', 'fopen', 'strstr', 'wcslen', 'wcstombs', 'setlocale', 'wcscmp', 'wcscat', 'mbstowcs', 'wcsrchr', 'wcscpy', 'getenv', 'strcmp', 'time', 'free', '__dllonexit', '_onexit', '_exit', '_XcptFilter', 'exit', '_acmdln', '__getmainargs', '_initterm', '__setusermatherr', '_adjust_fdiv', '__p__commode', '__p__fmode', '_strnicmp', 'HttpAddRequestHeadersA', 'HttpOpenRequestA', 'HttpEndRequestA', 'InternetWriteFile', 'HttpSendRequestA', 'InternetReadFile', 'HttpQueryInfoA', 'InternetAttemptConnect', 'InternetCloseHandle', 'InternetConnectA', 'InternetOpenA', 'HttpSendRequestExA', 'gethostbyname', 'inet_ntoa', 'WSAStartup', 'gethostname']"
        ],
        [
         "2",
         "295424",
         "1741100086.058689",
         "1535140403.0",
         "3",
         "['UPX0', 'UPX1', '.rsrc']",
         "['RegSaveKeyA', 'BitBlt', 'LoadLibraryA', 'GetProcAddress', 'VirtualProtect', '_iob', 'Netbios', 'EnumProcessModules', 'GetDC', 'WSASetLastError']"
        ],
        [
         "3",
         "15360",
         "1741100086.0677638",
         "1535140398.0",
         "3",
         "['.text', '.rdata', '.data']",
         "['CreateFileA', 'LocalAlloc', 'Sleep', 'CreateThread', 'CreateMutexA', 'CopyFileW', 'GetFileSize', 'CreateProcessA', 'GetEnvironmentVariableW', 'GetShortPathNameW', 'GetStartupInfoA', 'GetModuleHandleA', 'ReadFile', 'LocalFree', 'GetLastError', 'GetModuleFileNameW', 'CloseHandle', 'SendMessageA', 'FindWindowExA', 'RegQueryValueExA', 'RegCloseKey', 'RegSetValueExW', 'RegOpenKeyExA', 'SHGetSpecialFolderPathW', 'ShellExecuteW', '_controlfp', '_except_handler3', '__set_app_type', 'memset', '__CxxFrameHandler', 'strlen', 'sprintf', 'memcpy', 'strcpy', 'strcat', '_mbsnbcpy', '_mbsnbcmp', 'atol', '_mbscmp', 'atoi', 'fclose', 'fwrite', 'fopen', 'strstr', 'wcslen', 'wcstombs', 'setlocale', 'wcscmp', 'wcscat', 'mbstowcs', 'wcsrchr', 'wcscpy', 'getenv', 'strcmp', 'time', 'free', '__dllonexit', '_onexit', '_exit', '_XcptFilter', 'exit', '_acmdln', '__getmainargs', '_initterm', '__setusermatherr', '_adjust_fdiv', '__p__commode', '__p__fmode', '_strnicmp', 'HttpAddRequestHeadersA', 'HttpOpenRequestA', 'HttpEndRequestA', 'InternetWriteFile', 'HttpSendRequestA', 'InternetReadFile', 'HttpQueryInfoA', 'InternetAttemptConnect', 'InternetCloseHandle', 'InternetConnectA', 'InternetOpenA', 'HttpSendRequestExA', 'gethostbyname', 'inet_ntoa', 'WSAStartup', 'gethostname']"
        ],
        [
         "4",
         "16896",
         "1741100086.07527",
         "1535140398.0",
         "4",
         "['.text', '.rdata', '.data', '.rsrc']",
         "['GetModuleHandleA', 'GetWindowsDirectoryA', 'GetModuleFileNameA', 'CopyFileA', 'OutputDebugStringA', 'CreateProcessA', 'CreateMutexA', 'CreateThread', 'Sleep', 'LocalAlloc', 'CreateFileA', 'GetFileSize', 'ReadFile', 'LocalFree', 'GetLastError', 'GetStartupInfoA', 'CloseHandle', 'SendMessageA', 'FindWindowExA', 'OpenSCManagerA', 'CreateServiceA', 'ChangeServiceConfig2A', 'OpenServiceA', 'CloseServiceHandle', 'StartServiceA', 'QueryServiceStatus', 'RegisterServiceCtrlHandlerA', 'SetServiceStatus', 'StartServiceCtrlDispatcherA', 'RegOpenKeyExA', 'RegQueryValueExA', 'RegCloseKey', '_controlfp', 'memset', '__CxxFrameHandler', 'strlen', 'sprintf', 'memcpy', 'strcpy', 'strcat', '_mbsnbcpy', '_mbsnbcmp', 'atol', '_mbscmp', 'atoi', 'fclose', 'fwrite', 'fopen', 'strstr', 'getenv', 'strcmp', 'time', 'printf', 'free', '__dllonexit', '_onexit', '_exit', '_XcptFilter', 'exit', '_acmdln', '__getmainargs', '_initterm', '__setusermatherr', '_adjust_fdiv', '__p__commode', '__p__fmode', '__set_app_type', '_except_handler3', '_strnicmp', 'HttpAddRequestHeadersA', 'HttpOpenRequestA', 'HttpEndRequestA', 'InternetWriteFile', 'HttpSendRequestExA', 'InternetReadFile', 'HttpSendRequestA', 'InternetCloseHandle', 'InternetOpenA', 'InternetAttemptConnect', 'InternetConnectA', 'HttpQueryInfoA', 'gethostbyname', 'inet_ntoa', 'WSAStartup', 'gethostname']"
        ]
       ],
       "shape": {
        "columns": 6,
        "rows": 5
       }
      },
      "text/html": [
       "<div>\n",
       "<style scoped>\n",
       "    .dataframe tbody tr th:only-of-type {\n",
       "        vertical-align: middle;\n",
       "    }\n",
       "\n",
       "    .dataframe tbody tr th {\n",
       "        vertical-align: top;\n",
       "    }\n",
       "\n",
       "    .dataframe thead th {\n",
       "        text-align: right;\n",
       "    }\n",
       "</style>\n",
       "<table border=\"1\" class=\"dataframe\">\n",
       "  <thead>\n",
       "    <tr style=\"text-align: right;\">\n",
       "      <th></th>\n",
       "      <th>file_size</th>\n",
       "      <th>creation_time</th>\n",
       "      <th>modification_time</th>\n",
       "      <th>num_sections</th>\n",
       "      <th>file_sections</th>\n",
       "      <th>imported_function_calls</th>\n",
       "    </tr>\n",
       "  </thead>\n",
       "  <tbody>\n",
       "    <tr>\n",
       "      <th>0</th>\n",
       "      <td>285184</td>\n",
       "      <td>1.741100e+09</td>\n",
       "      <td>1.535140e+09</td>\n",
       "      <td>3</td>\n",
       "      <td>[UPX0, UPX1, UPX2]</td>\n",
       "      <td>[RegSaveKeyA, BitBlt, LoadLibraryA, ExitProces...</td>\n",
       "    </tr>\n",
       "    <tr>\n",
       "      <th>1</th>\n",
       "      <td>15360</td>\n",
       "      <td>1.741100e+09</td>\n",
       "      <td>1.535140e+09</td>\n",
       "      <td>3</td>\n",
       "      <td>[.text, .rdata, .data]</td>\n",
       "      <td>[CreateFileA, LocalAlloc, Sleep, CreateThread,...</td>\n",
       "    </tr>\n",
       "    <tr>\n",
       "      <th>2</th>\n",
       "      <td>295424</td>\n",
       "      <td>1.741100e+09</td>\n",
       "      <td>1.535140e+09</td>\n",
       "      <td>3</td>\n",
       "      <td>[UPX0, UPX1, .rsrc]</td>\n",
       "      <td>[RegSaveKeyA, BitBlt, LoadLibraryA, GetProcAdd...</td>\n",
       "    </tr>\n",
       "    <tr>\n",
       "      <th>3</th>\n",
       "      <td>15360</td>\n",
       "      <td>1.741100e+09</td>\n",
       "      <td>1.535140e+09</td>\n",
       "      <td>3</td>\n",
       "      <td>[.text, .rdata, .data]</td>\n",
       "      <td>[CreateFileA, LocalAlloc, Sleep, CreateThread,...</td>\n",
       "    </tr>\n",
       "    <tr>\n",
       "      <th>4</th>\n",
       "      <td>16896</td>\n",
       "      <td>1.741100e+09</td>\n",
       "      <td>1.535140e+09</td>\n",
       "      <td>4</td>\n",
       "      <td>[.text, .rdata, .data, .rsrc]</td>\n",
       "      <td>[GetModuleHandleA, GetWindowsDirectoryA, GetMo...</td>\n",
       "    </tr>\n",
       "  </tbody>\n",
       "</table>\n",
       "</div>"
      ],
      "text/plain": [
       "   file_size  creation_time  modification_time  num_sections  \\\n",
       "0     285184   1.741100e+09       1.535140e+09             3   \n",
       "1      15360   1.741100e+09       1.535140e+09             3   \n",
       "2     295424   1.741100e+09       1.535140e+09             3   \n",
       "3      15360   1.741100e+09       1.535140e+09             3   \n",
       "4      16896   1.741100e+09       1.535140e+09             4   \n",
       "\n",
       "                   file_sections  \\\n",
       "0             [UPX0, UPX1, UPX2]   \n",
       "1         [.text, .rdata, .data]   \n",
       "2            [UPX0, UPX1, .rsrc]   \n",
       "3         [.text, .rdata, .data]   \n",
       "4  [.text, .rdata, .data, .rsrc]   \n",
       "\n",
       "                             imported_function_calls  \n",
       "0  [RegSaveKeyA, BitBlt, LoadLibraryA, ExitProces...  \n",
       "1  [CreateFileA, LocalAlloc, Sleep, CreateThread,...  \n",
       "2  [RegSaveKeyA, BitBlt, LoadLibraryA, GetProcAdd...  \n",
       "3  [CreateFileA, LocalAlloc, Sleep, CreateThread,...  \n",
       "4  [GetModuleHandleA, GetWindowsDirectoryA, GetMo...  "
      ]
     },
     "execution_count": 96,
     "metadata": {},
     "output_type": "execute_result"
    }
   ],
   "source": [
    "df.rename(columns={\n",
    "    'Tamaño del archivo': 'file_size',\n",
    "    'Tiempo de creación': 'creation_time',\n",
    "    'Tiempo de modificación': 'modification_time',\n",
    "    'Número de secciones': 'num_sections',\n",
    "    'Secciones del archivo': 'file_sections',\n",
    "    'Llamadas a funciones importadas': 'imported_function_calls',\n",
    "    'Cadenas de texto incrustadas': 'embedded_strings',\n",
    "    'Cantidad de cadenas incrustadas': 'num_embedded_strings'\n",
    "}, inplace=True)\n",
    "print(\"Encabezado del Dataset con Nombres de Columnas Actualizados:\")\n",
    "df.head()"
   ]
  },
  {
   "cell_type": "code",
   "execution_count": 97,
   "metadata": {},
   "outputs": [
    {
     "name": "stdout",
     "output_type": "stream",
     "text": [
      "Encabezado del Dataset ya Procesado:\n"
     ]
    },
    {
     "data": {
      "application/vnd.microsoft.datawrangler.viewer.v0+json": {
       "columns": [
        {
         "name": "index",
         "rawType": "int64",
         "type": "integer"
        },
        {
         "name": "file_size",
         "rawType": "float64",
         "type": "float"
        },
        {
         "name": "creation_time",
         "rawType": "float64",
         "type": "float"
        },
        {
         "name": "modification_time",
         "rawType": "float64",
         "type": "float"
        },
        {
         "name": "num_sections",
         "rawType": "int64",
         "type": "integer"
        },
        {
         "name": ".data",
         "rawType": "int32",
         "type": "integer"
        },
        {
         "name": ".rdata",
         "rawType": "int32",
         "type": "integer"
        },
        {
         "name": ".rsrc",
         "rawType": "int32",
         "type": "integer"
        },
        {
         "name": ".text",
         "rawType": "int32",
         "type": "integer"
        },
        {
         "name": "UPX0",
         "rawType": "int32",
         "type": "integer"
        },
        {
         "name": "UPX1",
         "rawType": "int32",
         "type": "integer"
        },
        {
         "name": "UPX2",
         "rawType": "int32",
         "type": "integer"
        },
        {
         "name": "BitBlt",
         "rawType": "int32",
         "type": "integer"
        },
        {
         "name": "ChangeServiceConfig2A",
         "rawType": "int32",
         "type": "integer"
        },
        {
         "name": "CloseHandle",
         "rawType": "int32",
         "type": "integer"
        },
        {
         "name": "CloseServiceHandle",
         "rawType": "int32",
         "type": "integer"
        },
        {
         "name": "CopyFileA",
         "rawType": "int32",
         "type": "integer"
        },
        {
         "name": "CopyFileW",
         "rawType": "int32",
         "type": "integer"
        },
        {
         "name": "CreateFileA",
         "rawType": "int32",
         "type": "integer"
        },
        {
         "name": "CreateMutexA",
         "rawType": "int32",
         "type": "integer"
        },
        {
         "name": "CreateProcessA",
         "rawType": "int32",
         "type": "integer"
        },
        {
         "name": "CreateServiceA",
         "rawType": "int32",
         "type": "integer"
        },
        {
         "name": "CreateThread",
         "rawType": "int32",
         "type": "integer"
        },
        {
         "name": "EnumProcessModules",
         "rawType": "int32",
         "type": "integer"
        },
        {
         "name": "ExitProcess",
         "rawType": "int32",
         "type": "integer"
        },
        {
         "name": "FindWindowExA",
         "rawType": "int32",
         "type": "integer"
        },
        {
         "name": "GetDC",
         "rawType": "int32",
         "type": "integer"
        },
        {
         "name": "GetEnvironmentVariableW",
         "rawType": "int32",
         "type": "integer"
        },
        {
         "name": "GetFileSize",
         "rawType": "int32",
         "type": "integer"
        },
        {
         "name": "GetLastError",
         "rawType": "int32",
         "type": "integer"
        },
        {
         "name": "GetModuleFileNameA",
         "rawType": "int32",
         "type": "integer"
        },
        {
         "name": "GetModuleFileNameW",
         "rawType": "int32",
         "type": "integer"
        },
        {
         "name": "GetModuleHandleA",
         "rawType": "int32",
         "type": "integer"
        },
        {
         "name": "GetProcAddress",
         "rawType": "int32",
         "type": "integer"
        },
        {
         "name": "GetShortPathNameW",
         "rawType": "int32",
         "type": "integer"
        },
        {
         "name": "GetStartupInfoA",
         "rawType": "int32",
         "type": "integer"
        },
        {
         "name": "GetWindowsDirectoryA",
         "rawType": "int32",
         "type": "integer"
        },
        {
         "name": "HttpAddRequestHeadersA",
         "rawType": "int32",
         "type": "integer"
        },
        {
         "name": "HttpEndRequestA",
         "rawType": "int32",
         "type": "integer"
        },
        {
         "name": "HttpOpenRequestA",
         "rawType": "int32",
         "type": "integer"
        },
        {
         "name": "HttpQueryInfoA",
         "rawType": "int32",
         "type": "integer"
        },
        {
         "name": "HttpSendRequestA",
         "rawType": "int32",
         "type": "integer"
        },
        {
         "name": "HttpSendRequestExA",
         "rawType": "int32",
         "type": "integer"
        },
        {
         "name": "InternetAttemptConnect",
         "rawType": "int32",
         "type": "integer"
        },
        {
         "name": "InternetCloseHandle",
         "rawType": "int32",
         "type": "integer"
        },
        {
         "name": "InternetConnectA",
         "rawType": "int32",
         "type": "integer"
        },
        {
         "name": "InternetOpenA",
         "rawType": "int32",
         "type": "integer"
        },
        {
         "name": "InternetReadFile",
         "rawType": "int32",
         "type": "integer"
        },
        {
         "name": "InternetWriteFile",
         "rawType": "int32",
         "type": "integer"
        },
        {
         "name": "LoadLibraryA",
         "rawType": "int32",
         "type": "integer"
        },
        {
         "name": "LocalAlloc",
         "rawType": "int32",
         "type": "integer"
        },
        {
         "name": "LocalFree",
         "rawType": "int32",
         "type": "integer"
        },
        {
         "name": "Netbios",
         "rawType": "int32",
         "type": "integer"
        },
        {
         "name": "OpenSCManagerA",
         "rawType": "int32",
         "type": "integer"
        },
        {
         "name": "OpenServiceA",
         "rawType": "int32",
         "type": "integer"
        },
        {
         "name": "OutputDebugStringA",
         "rawType": "int32",
         "type": "integer"
        },
        {
         "name": "QueryServiceStatus",
         "rawType": "int32",
         "type": "integer"
        },
        {
         "name": "ReadFile",
         "rawType": "int32",
         "type": "integer"
        },
        {
         "name": "RegCloseKey",
         "rawType": "int32",
         "type": "integer"
        },
        {
         "name": "RegOpenKeyExA",
         "rawType": "int32",
         "type": "integer"
        },
        {
         "name": "RegQueryValueExA",
         "rawType": "int32",
         "type": "integer"
        },
        {
         "name": "RegSaveKeyA",
         "rawType": "int32",
         "type": "integer"
        },
        {
         "name": "RegSetValueExW",
         "rawType": "int32",
         "type": "integer"
        },
        {
         "name": "RegisterServiceCtrlHandlerA",
         "rawType": "int32",
         "type": "integer"
        },
        {
         "name": "SHGetSpecialFolderPathW",
         "rawType": "int32",
         "type": "integer"
        },
        {
         "name": "SendMessageA",
         "rawType": "int32",
         "type": "integer"
        },
        {
         "name": "SetServiceStatus",
         "rawType": "int32",
         "type": "integer"
        },
        {
         "name": "ShellExecuteA",
         "rawType": "int32",
         "type": "integer"
        },
        {
         "name": "ShellExecuteW",
         "rawType": "int32",
         "type": "integer"
        },
        {
         "name": "Sleep",
         "rawType": "int32",
         "type": "integer"
        },
        {
         "name": "StartServiceA",
         "rawType": "int32",
         "type": "integer"
        },
        {
         "name": "StartServiceCtrlDispatcherA",
         "rawType": "int32",
         "type": "integer"
        },
        {
         "name": "VirtualProtect",
         "rawType": "int32",
         "type": "integer"
        },
        {
         "name": "WSAGetLastError",
         "rawType": "int32",
         "type": "integer"
        },
        {
         "name": "WSASetLastError",
         "rawType": "int32",
         "type": "integer"
        },
        {
         "name": "WSAStartup",
         "rawType": "int32",
         "type": "integer"
        },
        {
         "name": "_XcptFilter",
         "rawType": "int32",
         "type": "integer"
        },
        {
         "name": "__CxxFrameHandler",
         "rawType": "int32",
         "type": "integer"
        },
        {
         "name": "__dllonexit",
         "rawType": "int32",
         "type": "integer"
        },
        {
         "name": "__getmainargs",
         "rawType": "int32",
         "type": "integer"
        },
        {
         "name": "__p__commode",
         "rawType": "int32",
         "type": "integer"
        },
        {
         "name": "__p__fmode",
         "rawType": "int32",
         "type": "integer"
        },
        {
         "name": "__set_app_type",
         "rawType": "int32",
         "type": "integer"
        },
        {
         "name": "__setusermatherr",
         "rawType": "int32",
         "type": "integer"
        },
        {
         "name": "_acmdln",
         "rawType": "int32",
         "type": "integer"
        },
        {
         "name": "_adjust_fdiv",
         "rawType": "int32",
         "type": "integer"
        },
        {
         "name": "_controlfp",
         "rawType": "int32",
         "type": "integer"
        },
        {
         "name": "_except_handler3",
         "rawType": "int32",
         "type": "integer"
        },
        {
         "name": "_exit",
         "rawType": "int32",
         "type": "integer"
        },
        {
         "name": "_initterm",
         "rawType": "int32",
         "type": "integer"
        },
        {
         "name": "_iob",
         "rawType": "int32",
         "type": "integer"
        },
        {
         "name": "_mbscmp",
         "rawType": "int32",
         "type": "integer"
        },
        {
         "name": "_mbsnbcmp",
         "rawType": "int32",
         "type": "integer"
        },
        {
         "name": "_mbsnbcpy",
         "rawType": "int32",
         "type": "integer"
        },
        {
         "name": "_onexit",
         "rawType": "int32",
         "type": "integer"
        },
        {
         "name": "_strnicmp",
         "rawType": "int32",
         "type": "integer"
        },
        {
         "name": "atoi",
         "rawType": "int32",
         "type": "integer"
        },
        {
         "name": "atol",
         "rawType": "int32",
         "type": "integer"
        },
        {
         "name": "exit",
         "rawType": "int32",
         "type": "integer"
        },
        {
         "name": "fclose",
         "rawType": "int32",
         "type": "integer"
        },
        {
         "name": "fopen",
         "rawType": "int32",
         "type": "integer"
        },
        {
         "name": "free",
         "rawType": "int32",
         "type": "integer"
        },
        {
         "name": "fwrite",
         "rawType": "int32",
         "type": "integer"
        },
        {
         "name": "getenv",
         "rawType": "int32",
         "type": "integer"
        },
        {
         "name": "gethostbyname",
         "rawType": "int32",
         "type": "integer"
        },
        {
         "name": "gethostname",
         "rawType": "int32",
         "type": "integer"
        },
        {
         "name": "inet_ntoa",
         "rawType": "int32",
         "type": "integer"
        },
        {
         "name": "mbstowcs",
         "rawType": "int32",
         "type": "integer"
        },
        {
         "name": "memcpy",
         "rawType": "int32",
         "type": "integer"
        },
        {
         "name": "memset",
         "rawType": "int32",
         "type": "integer"
        },
        {
         "name": "printf",
         "rawType": "int32",
         "type": "integer"
        },
        {
         "name": "send",
         "rawType": "int32",
         "type": "integer"
        },
        {
         "name": "setlocale",
         "rawType": "int32",
         "type": "integer"
        },
        {
         "name": "sprintf",
         "rawType": "int32",
         "type": "integer"
        },
        {
         "name": "strcat",
         "rawType": "int32",
         "type": "integer"
        },
        {
         "name": "strcmp",
         "rawType": "int32",
         "type": "integer"
        },
        {
         "name": "strcpy",
         "rawType": "int32",
         "type": "integer"
        },
        {
         "name": "strlen",
         "rawType": "int32",
         "type": "integer"
        },
        {
         "name": "strstr",
         "rawType": "int32",
         "type": "integer"
        },
        {
         "name": "time",
         "rawType": "int32",
         "type": "integer"
        },
        {
         "name": "wcscat",
         "rawType": "int32",
         "type": "integer"
        },
        {
         "name": "wcscmp",
         "rawType": "int32",
         "type": "integer"
        },
        {
         "name": "wcscpy",
         "rawType": "int32",
         "type": "integer"
        },
        {
         "name": "wcslen",
         "rawType": "int32",
         "type": "integer"
        },
        {
         "name": "wcsrchr",
         "rawType": "int32",
         "type": "integer"
        },
        {
         "name": "wcstombs",
         "rawType": "int32",
         "type": "integer"
        }
       ],
       "conversionMethod": "pd.DataFrame",
       "ref": "c6b45e25-9eae-4967-95d1-2269f1d1d5c6",
       "rows": [
        [
         "0",
         "0.8201550387596899",
         "0.0",
         "0.625",
         "3",
         "0",
         "0",
         "0",
         "0",
         "1",
         "1",
         "1",
         "1",
         "0",
         "0",
         "0",
         "0",
         "0",
         "0",
         "0",
         "0",
         "0",
         "0",
         "1",
         "1",
         "0",
         "1",
         "0",
         "0",
         "0",
         "0",
         "0",
         "0",
         "1",
         "0",
         "0",
         "0",
         "0",
         "0",
         "0",
         "0",
         "0",
         "0",
         "0",
         "0",
         "0",
         "0",
         "0",
         "0",
         "1",
         "0",
         "0",
         "1",
         "0",
         "0",
         "0",
         "0",
         "0",
         "0",
         "0",
         "0",
         "1",
         "0",
         "0",
         "0",
         "0",
         "0",
         "0",
         "0",
         "0",
         "0",
         "0",
         "1",
         "0",
         "0",
         "0",
         "0",
         "0",
         "0",
         "0",
         "0",
         "0",
         "0",
         "0",
         "0",
         "0",
         "0",
         "0",
         "0",
         "0",
         "1",
         "0",
         "0",
         "0",
         "0",
         "0",
         "0",
         "0",
         "0",
         "0",
         "0",
         "0",
         "0",
         "0",
         "0",
         "0",
         "0",
         "0",
         "0",
         "0",
         "0",
         "1",
         "0",
         "0",
         "0",
         "0",
         "0",
         "0",
         "0",
         "0",
         "0",
         "0",
         "0",
         "0",
         "0",
         "0"
        ],
        [
         "1",
         "0.0031007751937984496",
         "0.0808868408203125",
         "0.0",
         "3",
         "1",
         "1",
         "0",
         "1",
         "0",
         "0",
         "0",
         "0",
         "0",
         "1",
         "0",
         "0",
         "1",
         "1",
         "1",
         "1",
         "0",
         "1",
         "0",
         "0",
         "1",
         "0",
         "1",
         "1",
         "1",
         "0",
         "1",
         "1",
         "0",
         "1",
         "1",
         "0",
         "1",
         "1",
         "1",
         "1",
         "1",
         "1",
         "1",
         "1",
         "1",
         "1",
         "1",
         "1",
         "0",
         "1",
         "1",
         "0",
         "0",
         "0",
         "0",
         "0",
         "1",
         "1",
         "1",
         "1",
         "0",
         "1",
         "0",
         "1",
         "1",
         "0",
         "0",
         "1",
         "1",
         "0",
         "0",
         "0",
         "0",
         "0",
         "1",
         "1",
         "1",
         "1",
         "1",
         "1",
         "1",
         "1",
         "1",
         "1",
         "1",
         "1",
         "1",
         "1",
         "1",
         "0",
         "1",
         "1",
         "1",
         "1",
         "1",
         "1",
         "1",
         "1",
         "1",
         "1",
         "1",
         "1",
         "1",
         "1",
         "1",
         "1",
         "1",
         "1",
         "1",
         "0",
         "0",
         "1",
         "1",
         "1",
         "1",
         "1",
         "1",
         "1",
         "1",
         "1",
         "1",
         "1",
         "1",
         "1",
         "1"
        ],
        [
         "2",
         "0.8511627906976744",
         "0.16486740112304688",
         "0.625",
         "3",
         "0",
         "0",
         "1",
         "0",
         "1",
         "1",
         "0",
         "1",
         "0",
         "0",
         "0",
         "0",
         "0",
         "0",
         "0",
         "0",
         "0",
         "0",
         "1",
         "0",
         "0",
         "1",
         "0",
         "0",
         "0",
         "0",
         "0",
         "0",
         "1",
         "0",
         "0",
         "0",
         "0",
         "0",
         "0",
         "0",
         "0",
         "0",
         "0",
         "0",
         "0",
         "0",
         "0",
         "0",
         "1",
         "0",
         "0",
         "1",
         "0",
         "0",
         "0",
         "0",
         "0",
         "0",
         "0",
         "0",
         "1",
         "0",
         "0",
         "0",
         "0",
         "0",
         "0",
         "0",
         "0",
         "0",
         "0",
         "1",
         "0",
         "1",
         "0",
         "0",
         "0",
         "0",
         "0",
         "0",
         "0",
         "0",
         "0",
         "0",
         "0",
         "0",
         "0",
         "0",
         "0",
         "1",
         "0",
         "0",
         "0",
         "0",
         "0",
         "0",
         "0",
         "0",
         "0",
         "0",
         "0",
         "0",
         "0",
         "0",
         "0",
         "0",
         "0",
         "0",
         "0",
         "0",
         "0",
         "0",
         "0",
         "0",
         "0",
         "0",
         "0",
         "0",
         "0",
         "0",
         "0",
         "0",
         "0",
         "0",
         "0"
        ],
        [
         "3",
         "0.0031007751937984496",
         "0.25518035888671875",
         "0.0",
         "3",
         "1",
         "1",
         "0",
         "1",
         "0",
         "0",
         "0",
         "0",
         "0",
         "1",
         "0",
         "0",
         "1",
         "1",
         "1",
         "1",
         "0",
         "1",
         "0",
         "0",
         "1",
         "0",
         "1",
         "1",
         "1",
         "0",
         "1",
         "1",
         "0",
         "1",
         "1",
         "0",
         "1",
         "1",
         "1",
         "1",
         "1",
         "1",
         "1",
         "1",
         "1",
         "1",
         "1",
         "1",
         "0",
         "1",
         "1",
         "0",
         "0",
         "0",
         "0",
         "0",
         "1",
         "1",
         "1",
         "1",
         "0",
         "1",
         "0",
         "1",
         "1",
         "0",
         "0",
         "1",
         "1",
         "0",
         "0",
         "0",
         "0",
         "0",
         "1",
         "1",
         "1",
         "1",
         "1",
         "1",
         "1",
         "1",
         "1",
         "1",
         "1",
         "1",
         "1",
         "1",
         "1",
         "0",
         "1",
         "1",
         "1",
         "1",
         "1",
         "1",
         "1",
         "1",
         "1",
         "1",
         "1",
         "1",
         "1",
         "1",
         "1",
         "1",
         "1",
         "1",
         "1",
         "0",
         "0",
         "1",
         "1",
         "1",
         "1",
         "1",
         "1",
         "1",
         "1",
         "1",
         "1",
         "1",
         "1",
         "1",
         "1"
        ],
        [
         "4",
         "0.007751937984496124",
         "0.3298835754394531",
         "0.0",
         "4",
         "1",
         "1",
         "1",
         "1",
         "0",
         "0",
         "0",
         "0",
         "1",
         "1",
         "1",
         "1",
         "0",
         "1",
         "1",
         "1",
         "1",
         "1",
         "0",
         "0",
         "1",
         "0",
         "0",
         "1",
         "1",
         "1",
         "0",
         "1",
         "0",
         "0",
         "1",
         "1",
         "1",
         "1",
         "1",
         "1",
         "1",
         "1",
         "1",
         "1",
         "1",
         "1",
         "1",
         "1",
         "0",
         "1",
         "1",
         "0",
         "1",
         "1",
         "1",
         "1",
         "1",
         "1",
         "1",
         "1",
         "0",
         "0",
         "1",
         "0",
         "1",
         "1",
         "0",
         "0",
         "1",
         "1",
         "1",
         "0",
         "0",
         "0",
         "1",
         "1",
         "1",
         "1",
         "1",
         "1",
         "1",
         "1",
         "1",
         "1",
         "1",
         "1",
         "1",
         "1",
         "1",
         "0",
         "1",
         "1",
         "1",
         "1",
         "1",
         "1",
         "1",
         "1",
         "1",
         "1",
         "1",
         "1",
         "1",
         "1",
         "1",
         "1",
         "0",
         "1",
         "1",
         "1",
         "0",
         "0",
         "1",
         "1",
         "1",
         "1",
         "1",
         "1",
         "1",
         "0",
         "0",
         "0",
         "0",
         "0",
         "0"
        ]
       ],
       "shape": {
        "columns": 125,
        "rows": 5
       }
      },
      "text/html": [
       "<div>\n",
       "<style scoped>\n",
       "    .dataframe tbody tr th:only-of-type {\n",
       "        vertical-align: middle;\n",
       "    }\n",
       "\n",
       "    .dataframe tbody tr th {\n",
       "        vertical-align: top;\n",
       "    }\n",
       "\n",
       "    .dataframe thead th {\n",
       "        text-align: right;\n",
       "    }\n",
       "</style>\n",
       "<table border=\"1\" class=\"dataframe\">\n",
       "  <thead>\n",
       "    <tr style=\"text-align: right;\">\n",
       "      <th></th>\n",
       "      <th>file_size</th>\n",
       "      <th>creation_time</th>\n",
       "      <th>modification_time</th>\n",
       "      <th>num_sections</th>\n",
       "      <th>.data</th>\n",
       "      <th>.rdata</th>\n",
       "      <th>.rsrc</th>\n",
       "      <th>.text</th>\n",
       "      <th>UPX0</th>\n",
       "      <th>UPX1</th>\n",
       "      <th>...</th>\n",
       "      <th>strcpy</th>\n",
       "      <th>strlen</th>\n",
       "      <th>strstr</th>\n",
       "      <th>time</th>\n",
       "      <th>wcscat</th>\n",
       "      <th>wcscmp</th>\n",
       "      <th>wcscpy</th>\n",
       "      <th>wcslen</th>\n",
       "      <th>wcsrchr</th>\n",
       "      <th>wcstombs</th>\n",
       "    </tr>\n",
       "  </thead>\n",
       "  <tbody>\n",
       "    <tr>\n",
       "      <th>0</th>\n",
       "      <td>0.820155</td>\n",
       "      <td>0.000000</td>\n",
       "      <td>0.625</td>\n",
       "      <td>3</td>\n",
       "      <td>0</td>\n",
       "      <td>0</td>\n",
       "      <td>0</td>\n",
       "      <td>0</td>\n",
       "      <td>1</td>\n",
       "      <td>1</td>\n",
       "      <td>...</td>\n",
       "      <td>0</td>\n",
       "      <td>0</td>\n",
       "      <td>0</td>\n",
       "      <td>0</td>\n",
       "      <td>0</td>\n",
       "      <td>0</td>\n",
       "      <td>0</td>\n",
       "      <td>0</td>\n",
       "      <td>0</td>\n",
       "      <td>0</td>\n",
       "    </tr>\n",
       "    <tr>\n",
       "      <th>1</th>\n",
       "      <td>0.003101</td>\n",
       "      <td>0.080887</td>\n",
       "      <td>0.000</td>\n",
       "      <td>3</td>\n",
       "      <td>1</td>\n",
       "      <td>1</td>\n",
       "      <td>0</td>\n",
       "      <td>1</td>\n",
       "      <td>0</td>\n",
       "      <td>0</td>\n",
       "      <td>...</td>\n",
       "      <td>1</td>\n",
       "      <td>1</td>\n",
       "      <td>1</td>\n",
       "      <td>1</td>\n",
       "      <td>1</td>\n",
       "      <td>1</td>\n",
       "      <td>1</td>\n",
       "      <td>1</td>\n",
       "      <td>1</td>\n",
       "      <td>1</td>\n",
       "    </tr>\n",
       "    <tr>\n",
       "      <th>2</th>\n",
       "      <td>0.851163</td>\n",
       "      <td>0.164867</td>\n",
       "      <td>0.625</td>\n",
       "      <td>3</td>\n",
       "      <td>0</td>\n",
       "      <td>0</td>\n",
       "      <td>1</td>\n",
       "      <td>0</td>\n",
       "      <td>1</td>\n",
       "      <td>1</td>\n",
       "      <td>...</td>\n",
       "      <td>0</td>\n",
       "      <td>0</td>\n",
       "      <td>0</td>\n",
       "      <td>0</td>\n",
       "      <td>0</td>\n",
       "      <td>0</td>\n",
       "      <td>0</td>\n",
       "      <td>0</td>\n",
       "      <td>0</td>\n",
       "      <td>0</td>\n",
       "    </tr>\n",
       "    <tr>\n",
       "      <th>3</th>\n",
       "      <td>0.003101</td>\n",
       "      <td>0.255180</td>\n",
       "      <td>0.000</td>\n",
       "      <td>3</td>\n",
       "      <td>1</td>\n",
       "      <td>1</td>\n",
       "      <td>0</td>\n",
       "      <td>1</td>\n",
       "      <td>0</td>\n",
       "      <td>0</td>\n",
       "      <td>...</td>\n",
       "      <td>1</td>\n",
       "      <td>1</td>\n",
       "      <td>1</td>\n",
       "      <td>1</td>\n",
       "      <td>1</td>\n",
       "      <td>1</td>\n",
       "      <td>1</td>\n",
       "      <td>1</td>\n",
       "      <td>1</td>\n",
       "      <td>1</td>\n",
       "    </tr>\n",
       "    <tr>\n",
       "      <th>4</th>\n",
       "      <td>0.007752</td>\n",
       "      <td>0.329884</td>\n",
       "      <td>0.000</td>\n",
       "      <td>4</td>\n",
       "      <td>1</td>\n",
       "      <td>1</td>\n",
       "      <td>1</td>\n",
       "      <td>1</td>\n",
       "      <td>0</td>\n",
       "      <td>0</td>\n",
       "      <td>...</td>\n",
       "      <td>1</td>\n",
       "      <td>1</td>\n",
       "      <td>1</td>\n",
       "      <td>1</td>\n",
       "      <td>0</td>\n",
       "      <td>0</td>\n",
       "      <td>0</td>\n",
       "      <td>0</td>\n",
       "      <td>0</td>\n",
       "      <td>0</td>\n",
       "    </tr>\n",
       "  </tbody>\n",
       "</table>\n",
       "<p>5 rows × 125 columns</p>\n",
       "</div>"
      ],
      "text/plain": [
       "   file_size  creation_time  modification_time  num_sections  .data  .rdata  \\\n",
       "0   0.820155       0.000000              0.625             3      0       0   \n",
       "1   0.003101       0.080887              0.000             3      1       1   \n",
       "2   0.851163       0.164867              0.625             3      0       0   \n",
       "3   0.003101       0.255180              0.000             3      1       1   \n",
       "4   0.007752       0.329884              0.000             4      1       1   \n",
       "\n",
       "   .rsrc  .text  UPX0  UPX1  ...  strcpy  strlen  strstr  time  wcscat  \\\n",
       "0      0      0     1     1  ...       0       0       0     0       0   \n",
       "1      0      1     0     0  ...       1       1       1     1       1   \n",
       "2      1      0     1     1  ...       0       0       0     0       0   \n",
       "3      0      1     0     0  ...       1       1       1     1       1   \n",
       "4      1      1     0     0  ...       1       1       1     1       0   \n",
       "\n",
       "   wcscmp  wcscpy  wcslen  wcsrchr  wcstombs  \n",
       "0       0       0       0        0         0  \n",
       "1       1       1       1        1         1  \n",
       "2       0       0       0        0         0  \n",
       "3       1       1       1        1         1  \n",
       "4       0       0       0        0         0  \n",
       "\n",
       "[5 rows x 125 columns]"
      ]
     },
     "execution_count": 97,
     "metadata": {},
     "output_type": "execute_result"
    }
   ],
   "source": [
    "df_processed = df.copy()\n",
    "\n",
    "# Tokenizar las columnas de listas\n",
    "mlb_sections = MultiLabelBinarizer()\n",
    "mlb_imported_functions = MultiLabelBinarizer()\n",
    "\n",
    "# Tokenización de las secciones del archivo\n",
    "sections_encoded = pd.DataFrame(mlb_sections.fit_transform(df_processed['file_sections']), columns=mlb_sections.classes_, index=df_processed.index)\n",
    "\n",
    "# Tokenización de las llamadas a funciones importadas\n",
    "imported_functions_encoded = pd.DataFrame(mlb_imported_functions.fit_transform(df_processed['imported_function_calls']), columns=mlb_imported_functions.classes_, index=df_processed.index)\n",
    "\n",
    "df_processed = pd.concat([df_processed, sections_encoded, imported_functions_encoded], axis=1)\n",
    "df_processed.drop(['file_sections', 'imported_function_calls'], axis=1, inplace=True)\n",
    "scaler = MinMaxScaler()\n",
    "df_processed[['file_size', 'creation_time', 'modification_time']] = scaler.fit_transform(df_processed[['file_size', 'creation_time', 'modification_time']])\n",
    "print(\"Encabezado del Dataset ya Procesado:\")\n",
    "df_processed.head()"
   ]
  },
  {
   "cell_type": "markdown",
   "metadata": {},
   "source": [
    "# Parte 2 \n",
    "## Implementación de algoritmos\n",
    "### Algoritmo Kmeans"
   ]
  },
  {
   "cell_type": "code",
   "execution_count": null,
   "metadata": {},
   "outputs": [
    {
     "data": {
      "image/png": "[encoded data removed]",
      "text/plain": [
       "<Figure size 800x600 with 1 Axes>"
      ]
     },
     "metadata": {},
     "output_type": "display_data"
    }
   ],
   "source": [
    "sse = []\n",
    "for k in range(1, 13): # Probamos con un rango de 1 a 12 clusters\n",
    "    kmeans = KMeans(n_clusters=k, random_state=42) # Creamos un modelo KMeans\n",
    "    kmeans.fit(df_processed) # Ajustamos el modelo\n",
    "    sse.append(kmeans.inertia_) # Obtenemos el SSE\n",
    "\n",
    "plt.figure(figsize=(8, 6)) # Creamos una figura\n",
    "plt.plot(range(1, 13), sse, marker='o') # Graficamos el SSE\n",
    "plt.title('Método del Codo Kmeans') # Título del gráfico\n",
    "plt.xlabel('Número de Clusters (k)')\n",
    "plt.ylabel('SSE')\n",
    "plt.xticks(range(1, 13))\n",
    "plt.grid(True)\n",
    "plt.show()"
   ]
  },
  {
   "cell_type": "markdown",
   "metadata": {},
   "source": [
    "Explicación: "
   ]
  },
  {
   "cell_type": "code",
   "execution_count": null,
   "metadata": {},
   "outputs": [
    {
     "name": "stdout",
     "output_type": "stream",
     "text": [
      "Para k=2, el coeficiente de Silhouette es: 0.7643004597531723\n",
      "Para k=3, el coeficiente de Silhouette es: 0.7563506165219093\n",
      "Para k=4, el coeficiente de Silhouette es: 0.6892854160045141\n",
      "Para k=5, el coeficiente de Silhouette es: 0.660161215019763\n",
      "Para k=6, el coeficiente de Silhouette es: 0.6807756417739484\n",
      "Para k=7, el coeficiente de Silhouette es: 0.4480720450364529\n",
      "Para k=8, el coeficiente de Silhouette es: 0.34521853211967957\n",
      "Para k=9, el coeficiente de Silhouette es: 0.3853736250487023\n",
      "Para k=10, el coeficiente de Silhouette es: 0.30014740919414895\n",
      "Para k=11, el coeficiente de Silhouette es: 0.21887253928555964\n",
      "Para k=12, el coeficiente de Silhouette es: 0.15087173231174655\n"
     ]
    },
    {
     "data": {
      "image/png": "[encoded data removed]",
      "text/plain": [
       "<Figure size 800x600 with 1 Axes>"
      ]
     },
     "metadata": {},
     "output_type": "display_data"
    }
   ],
   "source": [
    "silhouette_scores = [] # Lista que contendrá los coeficientes de Silhouette\n",
    "\n",
    "# Calcular el coeficiente de Silhouette para diferentes valores de k\n",
    "for k in range(2, 13):\n",
    "    kmeans = KMeans(n_clusters=k, random_state=42) # Creamos un modelo KMeans\n",
    "    cluster_labels = kmeans.fit_predict(df_processed) # Ajustamos el modelo y obtenemos las etiquetas de los clusters\n",
    "    silhouette_avg = silhouette_score(df_processed, cluster_labels) # Calculamos el coeficiente de Silhouette\n",
    "    silhouette_scores.append(silhouette_avg) # Agregamos el coeficiente a la lista\n",
    "    print(f\"Para k={k}, el coeficiente de Silhouette es: {silhouette_avg}\") # Mostramos el coeficiente de Silhouette\n",
    "\n",
    "plt.figure(figsize=(8, 6)) # Creamos una figura\n",
    "plt.plot(range(2, 13), silhouette_scores, marker='o')\n",
    "plt.title('Coeficiente de Silhouette')\n",
    "plt.xlabel('Número de Clusters (k)')\n",
    "plt.ylabel('Coeficiente de Silhouette')\n",
    "plt.xticks(range(2, 13))\n",
    "plt.grid(True)\n",
    "plt.show()"
   ]
  },
  {
   "cell_type": "markdown",
   "metadata": {},
   "source": [
    "Explicación:"
   ]
  },
  {
   "cell_type": "code",
   "execution_count": null,
   "metadata": {},
   "outputs": [
    {
     "name": "stdout",
     "output_type": "stream",
     "text": [
      "\n",
      "Grupo 1:\n",
      "- B98hX8E8622C393D7E832D39E620EAD5D3B49\n",
      "- FGTR43_EF8E0FB20E7228C7492CCDC59D87C690\n",
      "- GBV66_8F259BB36E00D124963CFA9B86F502E\n",
      "- GFT4_7DDD3D72EAD03C7518F5D47650C8572\n",
      "- K99_C3A9A7B026BFE0E55FF219FD6AA7D94\n",
      "- PL98_BD8B082B7711BC980252F988BB0CA936\n",
      "- RTC_7F85D7F628CE62D1D8F7B39D8940472\n",
      "\n",
      "Grupo 2:\n",
      "- .DS_Store\n",
      "- DS22_A670D13D4D014169C4080328B8FEB86\n",
      "- KLp90_6D5C8FC4B14559F73B6136D85B94198\n",
      "- POL55_A4F1ECC4D25B33395196B5D51A06790\n",
      "- QW2_4C6BDDCCA2695D6202DF38708E14FC7E\n",
      "- SAM_B659D71AE168E774FAAF38DB30F4A84\n"
     ]
    }
   ],
   "source": [
    "# Ajustar el modelo KMeans con k=2\n",
    "kmeans = KMeans(n_clusters=2, random_state=42)\n",
    "cluster_labels = kmeans.fit_predict(df_processed) # Ajustamos el modelo y obtenemos las etiquetas de los clusters\n",
    "\n",
    "# Crear un DataFrame con los resultados\n",
    "malwr_folder = \"MALWR\"\n",
    "malware_files = os.listdir(malwr_folder) # Obtenemos los nombres de los archivos\n",
    "\n",
    "# Crear un DataFrame con los resultados de los clusters\n",
    "min_length = min(len(malware_files), len(cluster_labels)) # Obtenemos la longitud mínima\n",
    "result_df = pd.DataFrame({\n",
    "    'File Name': malware_files[:min_length], # Obtenemos los nombres de los archivos\n",
    "    'Cluster': cluster_labels[:min_length] # Obtenemos las etiquetas de los clusters\n",
    "})\n",
    "\n",
    "# Ordenar el DataFrame por el cluster\n",
    "result_df.sort_values(by='Cluster', inplace=True)\n",
    "\n",
    "# Mostrar los resultados\n",
    "for cluster_id, group in result_df.groupby('Cluster'):\n",
    "    print(f\"\\nGrupo {cluster_id + 1}:\")\n",
    "    for file_name in group['File Name']:\n",
    "        print(f\"- {file_name}\")"
   ]
  },
  {
   "cell_type": "markdown",
   "metadata": {},
   "source": [
    "### Algoritmo K-Medoids"
   ]
  },
  {
   "cell_type": "code",
   "execution_count": null,
   "metadata": {},
   "outputs": [
    {
     "data": {
      "image/png": "[encoded data removed]",
      "text/plain": [
       "<Figure size 1000x500 with 1 Axes>"
      ]
     },
     "metadata": {},
     "output_type": "display_data"
    }
   ],
   "source": [
    "def elbow_method_kmedoids(df):\n",
    "    # Calcular el SSE para diferentes valores de k\n",
    "    max_clusters = min(len(df) - 1, 10)  # Número máximo de clusters\n",
    "    \n",
    "    sum_of_squared_distances = [] # Lista que contendrá el SSE\n",
    "    k_values = range(1, max_clusters + 1) # Rango de valores de k\n",
    "    for k in k_values: # Iteramos sobre los valores de k\n",
    "        kmedoids = KMedoids(n_clusters=k, random_state=42) # Creamos un modelo KMedoids\n",
    "        kmedoids.fit(df) # Ajustamos el modelo\n",
    "        sum_of_squared_distances.append(kmedoids.inertia_) # Obtenemos el SSE y lo agregamos a la lista\n",
    "    return sum_of_squared_distances, max_clusters # Retornamos el SSE y el número máximo de clusters\n",
    "\n",
    "def plot_elbow_kmedoids(df): # Función para graficar el método del codo\n",
    "    elbow_scores, max_clusters = elbow_method_kmedoids(df) # Obtenemos el SSE y el número máximo de clusters\n",
    "    plt.figure(figsize=(10, 5))\n",
    "    plt.plot(range(1, max_clusters + 1), elbow_scores, marker='o', linestyle='-') # Graficamos el SSE\n",
    "    plt.title('Método del Codo K-medoids')\n",
    "    plt.xlabel('Número de Clusters (k)')\n",
    "    plt.ylabel('SSE')\n",
    "    plt.xticks(range(1, max_clusters + 1))\n",
    "    plt.grid(True)\n",
    "    plt.show()\n",
    "\n",
    "def silhouette_method_kmedoids(df): # Función para calcular el coeficiente de Silhouette\n",
    "    max_clusters = min(len(df) - 1, 10) # Número máximo de clusters\n",
    "    silhouette_scores = [] # Lista que contendrá los coeficientes de Silhouette \n",
    "    for k in range(2, max_clusters + 1): # Iteramos sobre los valores de k\n",
    "        kmedoids = KMedoids(n_clusters=k, random_state=42) # Creamos un modelo KMedoids\n",
    "        cluster_labels = kmedoids.fit_predict(df) # Ajustamos el modelo y obtenemos las etiquetas de los clusters\n",
    "        if len(set(cluster_labels)) > 1: # Si se generaron más de un clúster\n",
    "            silhouette_avg = silhouette_score(df, cluster_labels) # Calculamos el coeficiente de Silhouette\n",
    "            silhouette_scores.append(silhouette_avg)\n",
    "            print(f\"Para k={k}, el coeficiente de Silhouette es: {silhouette_avg}\") # Mostramos el coeficiente de Silhouette\n",
    "        else:\n",
    "            print(f\"Para k={k}, el algoritmo solo generó un único clúster.\")\n",
    "            silhouette_scores.append(None)\n",
    "    return silhouette_scores, max_clusters\n",
    "\n",
    "def plot_silhouette_kmedoids(df): # Función para graficar el coeficiente de Silhouette\n",
    "    silhouette_scores, max_clusters = silhouette_method_kmedoids(df) # Obtenemos el coeficiente de Silhouette y el número máximo de clusters\n",
    "    plt.figure(figsize=(10, 5)) # Creamos una figura\n",
    "    plt.plot(range(2, max_clusters + 1), silhouette_scores, marker='o') # Graficamos el coeficiente de Silhouette\n",
    "    plt.title('Coeficiente de Silhouette K-medoids')\n",
    "    plt.xlabel('Número de Clusters (k)')\n",
    "    plt.ylabel('Coeficiente de Silhouette')\n",
    "    plt.xticks(range(2, max_clusters + 1))\n",
    "    plt.grid(True)\n",
    "    plt.show()\n",
    "\n",
    "# Plot results\n",
    "plot_elbow_kmedoids(df_processed)"
   ]
  },
  {
   "cell_type": "markdown",
   "metadata": {},
   "source": [
    "Explicación:"
   ]
  },
  {
   "cell_type": "code",
   "execution_count": null,
   "metadata": {},
   "outputs": [
    {
     "name": "stdout",
     "output_type": "stream",
     "text": [
      "Para k=2, el coeficiente de Silhouette es: 0.7643004597531723\n",
      "Para k=3, el coeficiente de Silhouette es: 0.466617520648662\n",
      "Para k=4, el coeficiente de Silhouette es: 0.3766292706737096\n",
      "Para k=5, el coeficiente de Silhouette es: 0.3096740055679258\n",
      "Para k=6, el coeficiente de Silhouette es: 0.18241236059798993\n",
      "Para k=7, el coeficiente de Silhouette es: 0.2546104109880022\n",
      "Para k=8, el coeficiente de Silhouette es: 0.18768821221365478\n",
      "Para k=9, el coeficiente de Silhouette es: 0.036383038339203116\n",
      "Para k=10, el coeficiente de Silhouette es: -0.11295552491790604\n"
     ]
    },
    {
     "data": {
      "image/png": "[encoded data removed]",
      "text/plain": [
       "<Figure size 1000x500 with 1 Axes>"
      ]
     },
     "metadata": {},
     "output_type": "display_data"
    }
   ],
   "source": [
    "plot_silhouette_kmedoids(df_processed) # Graficamos el coeficiente de Silhouette"
   ]
  },
  {
   "cell_type": "markdown",
   "metadata": {},
   "source": [
    "Explicación:"
   ]
  },
  {
   "cell_type": "code",
   "execution_count": null,
   "metadata": {},
   "outputs": [
    {
     "name": "stdout",
     "output_type": "stream",
     "text": [
      "Grupo 1:\n",
      "- MALWR\\.DS_Store\n",
      "- MALWR\\DS22_A670D13D4D014169C4080328B8FEB86\n",
      "- MALWR\\KLp90_6D5C8FC4B14559F73B6136D85B94198\n",
      "- MALWR\\POL55_A4F1ECC4D25B33395196B5D51A06790\n",
      "- MALWR\\QW2_4C6BDDCCA2695D6202DF38708E14FC7E\n",
      "- MALWR\\SAM_B659D71AE168E774FAAF38DB30F4A84\n",
      "Grupo 2:\n",
      "- MALWR\\B98hX8E8622C393D7E832D39E620EAD5D3B49\n",
      "- MALWR\\FGTR43_EF8E0FB20E7228C7492CCDC59D87C690\n",
      "- MALWR\\GBV66_8F259BB36E00D124963CFA9B86F502E\n",
      "- MALWR\\GFT4_7DDD3D72EAD03C7518F5D47650C8572\n",
      "- MALWR\\K99_C3A9A7B026BFE0E55FF219FD6AA7D94\n",
      "- MALWR\\PL98_BD8B082B7711BC980252F988BB0CA936\n",
      "- MALWR\\RTC_7F85D7F628CE62D1D8F7B39D8940472\n"
     ]
    }
   ],
   "source": [
    "def kmedoids_clustering(df, num_clusters): # Función para realizar el clustering con K-medoids\n",
    "    kmedoids = KMedoids(n_clusters=num_clusters, random_state=42) # Creamos un modelo KMedoids\n",
    "    cluster_labels = kmedoids.fit_predict(df) # Ajustamos el modelo y obtenemos las etiquetas de los clusters\n",
    "    return cluster_labels\n",
    "\n",
    "def print_clusters(cluster_labels, file_names): # Función para mostrar los resultados\n",
    "    clusters = {} # Diccionario que contendrá los clusters\n",
    "    for label, file_name in zip(cluster_labels, file_names): # Iteramos sobre las etiquetas de los clusters y los nombres de los archivos\n",
    "        if label not in clusters: # Si la etiqueta no está en el diccionario\n",
    "            clusters[label] = [] # Creamos una lista vacía para la etiqueta\n",
    "        clusters[label].append(file_name) # Agregamos el nombre del archivo a la lista correspondiente\n",
    "\n",
    "    for cluster_id, files in clusters.items(): # Iteramos sobre los clusters y los archivos\n",
    "        print(f\"Grupo {cluster_id + 1}:\") # Mostramos el número de cluster\n",
    "        for file_name in files:\n",
    "            print(f\"- {file_name}\")\n",
    "\n",
    "num_clusters = 2\n",
    "\n",
    "cluster_labels = kmedoids_clustering(df_processed, num_clusters) # Realizamos el clustering con K-medoids\n",
    "\n",
    "print_clusters(cluster_labels, malware_paths)"
   ]
  },
  {
   "cell_type": "markdown",
   "metadata": {},
   "source": [
    "# Algoritmo 3 Extra Gemini"
   ]
  },
  {
   "cell_type": "markdown",
   "metadata": {},
   "source": [
    "### Generando los embeddings de la información de nuestro dataset usando Gemini"
   ]
  },
  {
   "cell_type": "code",
   "execution_count": null,
   "metadata": {},
   "outputs": [
    {
     "name": "stdout",
     "output_type": "stream",
     "text": [
      "Generating text features...\n",
      "Generating embeddings...\n",
      "Generated embeddings for 13 samples\n",
      "Applying dimensionality reduction...\n",
      "Skipped PCA due to small dataset size\n",
      "Applied UMAP reduction with 5 neighbors\n",
      "\n",
      "Performing clustering...\n"
     ]
    },
    {
     "name": "stderr",
     "output_type": "stream",
     "text": [
      "C:\\Users\\Personal\\AppData\\Roaming\\Python\\Python311\\site-packages\\umap\\umap_.py:1952: UserWarning:\n",
      "\n",
      "n_jobs value 1 overridden to 1 by setting random_state. Use no seed for parallelism.\n",
      "\n"
     ]
    },
    {
     "data": {
      "image/png": "[encoded data removed]",
      "text/plain": [
       "<Figure size 1200x800 with 2 Axes>"
      ]
     },
     "metadata": {},
     "output_type": "display_data"
    },
    {
     "name": "stdout",
     "output_type": "stream",
     "text": [
      "\n",
      "Silhouette Score: 0.744\n",
      "\n",
      "Cluster Distribution:\n",
      "\n",
      "Cluster 0: 7 samples\n",
      "Files: [1, 3, 4, 5, 6, 8, 11]\n",
      "\n",
      "Cluster 1: 6 samples\n",
      "Files: [0, 2, 7, 9, 10, 12]\n",
      "\n",
      "Results saved to clustering_results.csv\n"
     ]
    }
   ],
   "source": [
    "import os\n",
    "import pefile\n",
    "import pandas as pd\n",
    "import numpy as np\n",
    "from dotenv import load_dotenv\n",
    "import matplotlib.pyplot as plt\n",
    "from matplotlib.image import imread\n",
    "from sklearn.preprocessing import MultiLabelBinarizer, MinMaxScaler\n",
    "from sklearn.cluster import DBSCAN, KMeans\n",
    "from sklearn_extra.cluster import KMedoids\n",
    "from sklearn.metrics import silhouette_score\n",
    "import google.generativeai as genai\n",
    "from umap import UMAP\n",
    "from sklearn.decomposition import PCA\n",
    "\n",
    "\n",
    "# cargar el archivo de configuración\n",
    "load_dotenv()\n",
    "genai.configure(api_key=os.getenv('GEMINI_API_KEY')) # Configurar la API de Gemini\n",
    "\n",
    "def get_embeddings(texts): # Función para generar embeddings\n",
    "    \"\"\"Generate embeddings using Gemini API\"\"\"\n",
    "    model = 'models/embedding-001' # Modelo de embeddings\n",
    "    embeddings = [] # Lista que contendrá los embeddings\n",
    "    for text in texts: # Iteramos sobre los textos\n",
    "        try: # Intentamos generar el embedding\n",
    "            result = genai.embed_content(\n",
    "                model=model, # Modelo de embeddings\n",
    "                content=str(text), # Texto a procesar\n",
    "                task_type=\"clustering\" # Tipo de tarea\n",
    "            )\n",
    "            embeddings.append(result['embedding']) # Agregamos el embedding a la lista\n",
    "        except Exception as e: # Manejo de excepciones\n",
    "            print(f\"Error processing text: {e}\") # Mostramos el error\n",
    "    return np.array(embeddings)\n",
    "\n",
    "def create_text_features(row): # Función para combinar características relevantes en texto\n",
    "    \"\"\"Combine relevant features into text\"\"\"\n",
    "    features = [] # Lista que contendrá las características\n",
    "    if 'file_sections' in row: # Si hay secciones de archivo\n",
    "        features.extend(row['file_sections']) # Agregamos las secciones\n",
    "    if 'imported_function_calls' in row: # Si hay llamadas a funciones importadas\n",
    "        features.extend(row['imported_function_calls']) # Agregamos las funciones importadas\n",
    "    return ' '.join(map(str, features)) # Retornamos las características combinadas\n",
    "\n",
    "\n",
    "print(\"Generating text features...\") # Generar características de texto\n",
    "text_features = df.apply(create_text_features, axis=1).tolist() # Aplicar la función a cada fila\n",
    "\n",
    "print(\"Generating embeddings...\") # Generar embeddings\n",
    "embeddings = get_embeddings(text_features) # Obtener los embeddings\n",
    "n_samples = len(embeddings) # Número de muestras\n",
    "print(f\"Generated embeddings for {n_samples} samples\") # Mostrar el número de muestras\n",
    "\n",
    "# Dimensionality reduction pipeline\n",
    "print(\"Applying dimensionality reduction...\")\n",
    "\n",
    "# aplicar PCA si hay más de 50 muestras\n",
    "if n_samples > 50:\n",
    "    n_components = min(n_samples - 1, embeddings.shape[1], 50) # Limitar a 50 componentes\n",
    "    pca = PCA(n_components=n_components) # Crear un modelo PCA\n",
    "    embeddings_processed = pca.fit_transform(embeddings) # Ajustar y transformar los embeddings\n",
    "    print(f\"Applied PCA: reduced to {n_components} dimensions\") # Mostrar el número de dimensiones\n",
    "else:\n",
    "    embeddings_processed = embeddings # Mantener los embeddings originales\n",
    "    print(\"Skipped PCA due to small dataset size\") # Mostrar mensaje de advertencia\n",
    "\n",
    "# aplicar UMAP para reducir a 2 dimensiones\n",
    "n_neighbors = min(n_samples - 1, 5)  # Limitar a 5 vecinos para conjuntos de datos pequeños\n",
    "reducer = UMAP(\n",
    "    n_components=2, # Reducir a 2 dimensiones\n",
    "    random_state=42, # Semilla aleatoria\n",
    "    min_dist=0.1,\n",
    "    n_neighbors=n_neighbors, # Número de vecinos\n",
    "    metric='euclidean'\n",
    ")\n",
    "reduced_embeddings = reducer.fit_transform(embeddings_processed) # Ajustar y transformar los embeddings\n",
    "print(f\"Applied UMAP reduction with {n_neighbors} neighbors\") # Mostrar el número de vecinos\n",
    "\n",
    "# Clustering\n",
    "print(\"\\nPerforming clustering...\")\n",
    "n_clusters = min(2, n_samples - 1) # Limitar a 2 clusters para conjuntos de datos pequeños\n",
    "kmeans = KMeans(n_clusters=n_clusters, random_state=42) # Crear un modelo KMeans\n",
    "clusters = kmeans.fit_predict(embeddings_processed) # Ajustar el modelo y obtener las etiquetas de los clusters\n",
    "\n",
    "# Visualization\n",
    "plt.figure(figsize=(12, 8))\n",
    "scatter = plt.scatter(\n",
    "    reduced_embeddings[:, 0],\n",
    "    reduced_embeddings[:, 1],\n",
    "    c=clusters,\n",
    "    cmap='viridis',\n",
    "    alpha=0.6,\n",
    "    s=100  \n",
    ")\n",
    "\n",
    "plt.title(f'Malware Clusters ({n_samples} samples)', pad=20)\n",
    "plt.xlabel('UMAP Dimension 1')\n",
    "plt.ylabel('UMAP Dimension 2')\n",
    "plt.colorbar(scatter, label='Clusters')\n",
    "plt.grid(True, alpha=0.3)\n",
    "\n",
    "\n",
    "if 'file_name' in df.columns: # Si hay nombres de archivo\n",
    "    for i, txt in enumerate(df['file_name']): # Iteramos sobre los nombres de archivo \n",
    "        plt.annotate(\n",
    "            txt, # Texto \n",
    "            (reduced_embeddings[i, 0], reduced_embeddings[i, 1]), # Coordenadas\n",
    "            fontsize=8, # Tamaño de\n",
    "            alpha=0.7, # Transparencia\n",
    "            xytext=(5, 5),\n",
    "            textcoords='offset points'\n",
    "        )\n",
    "\n",
    "plt.tight_layout()\n",
    "plt.show()\n",
    "\n",
    "# metricas de clustering\n",
    "if len(np.unique(clusters)) > 1: # Si hay más de un clúster\n",
    "    silhouette_avg = silhouette_score(embeddings_processed, clusters) # Calcular el coeficiente de Silhouette\n",
    "    print(f\"\\nSilhouette Score: {silhouette_avg:.3f}\") # Mostrar el coeficiente de Silhouette\n",
    "\n",
    "# distribución de clusters\n",
    "print(\"\\nCluster Distribution:\")\n",
    "for cluster in range(n_clusters): # Iteramos sobre los clusters\n",
    "    count = (clusters == cluster).sum() # Contamos el número de muestras en el cluster\n",
    "    files_in_cluster = df.index[clusters == cluster].tolist() # Obtenemos los archivos en el cluster\n",
    "    print(f\"\\nCluster {cluster}: {count} samples\") # Mostramos el número de muestras en el cluster\n",
    "    print(\"Files:\", files_in_cluster) # Mostramos los archivos en el cluster\n",
    "\n",
    "# guardar resultados\n",
    "results_df = pd.DataFrame({\n",
    "    'File': df.index if 'file_name' not in df.columns else df['file_name'], # Nombres de archivo\n",
    "    'Cluster': clusters, # Clusters\n",
    "    'UMAP_1': reduced_embeddings[:, 0], # Coordenadas\n",
    "    'UMAP_2': reduced_embeddings[:, 1] # Coordenadas\n",
    "})\n",
    "results_df.to_csv('clustering_results.csv') # Guardar los resultados en un archivo CSV\n",
    "print(\"\\nResults saved to clustering_results.csv\") # Mostrar mensaje de éxito"
   ]
  },
  {
   "cell_type": "markdown",
   "metadata": {},
   "source": [
    "## Comparando modelos\n",
    "R//"
   ]
  },
  {
   "cell_type": "markdown",
   "metadata": {},
   "source": [
    "# Analisis de Similitudes "
   ]
  },
  {
   "cell_type": "code",
   "execution_count": null,
   "metadata": {},
   "outputs": [],
   "source": [
    "# Codigo para el analisis de similitudes"
   ]
  },
  {
   "cell_type": "markdown",
   "metadata": {},
   "source": [
    "# Conclusiones\n",
    "1. Para ambos algoritmos, ¿para qué número de clústeres se obtiene el coeficiente de Silhouette\n",
    "más alto?\n",
    "\n",
    "R//\n",
    "\n",
    "2. Para ambos algoritmos, ¿En que medida coincide el coeficiente de Silhouette con el método\n",
    "del codo?\n",
    "\n",
    "R//\n",
    "\n",
    "3. Según los resultados obtenidos de ambos algoritmos ¿Cuántas familias cree que existen entre\n",
    "los ejemplares de malware proporcionados?\n",
    "\n",
    "R//\n",
    "\n",
    "4. ¿En qué medida coincide el análisis de similitud con las familias encontradas utilizando los\n",
    "algoritmos de partición, para ambas características (strings, llamadas a las funciones)?\n",
    "\n",
    "R//"
   ]
  }
 ],
 "metadata": {
  "kernelspec": {
   "display_name": "Python 3",
   "language": "python",
   "name": "python3"
  },
  "language_info": {
   "codemirror_mode": {
    "name": "ipython",
    "version": 3
   },
   "file_extension": ".py",
   "mimetype": "text/x-python",
   "name": "python",
   "nbconvert_exporter": "python",
   "pygments_lexer": "ipython3",
   "version": "3.11.0"
  }
 },
 "nbformat": 4,
 "nbformat_minor": 2
}
