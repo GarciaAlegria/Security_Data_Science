{
 "cells": [
  {
   "cell_type": "markdown",
   "metadata": {},
   "source": [
    "# Laboratorio 4 Malware families\n",
    "## Security Data Science\n",
    "### Universidad del valle de Guatemala\n",
    "\n",
    "Abner Ivan Garcia - 21285\n",
    "\n",
    "Oscar Esteba Donis - 21610"
   ]
  },
  {
   "cell_type": "markdown",
   "metadata": {},
   "source": [
    "# Parte 1\n",
    "## Creación del dataset"
   ]
  },
  {
   "cell_type": "code",
   "execution_count": 2,
   "metadata": {},
   "outputs": [],
   "source": [
    "import os\n",
    "import pefile\n",
    "import pandas as pd\n",
    "import numpy as np\n",
    "import matplotlib.pyplot as plt\n",
    "from matplotlib.image import imread\n",
    "from sklearn.preprocessing import MultiLabelBinarizer, MinMaxScaler\n",
    "from sklearn.cluster import DBSCAN\n",
    "from sklearn.cluster import KMeans\n",
    "from sklearn_extra.cluster import KMedoids\n",
    "from sklearn.metrics import silhouette_score"
   ]
  },
  {
   "cell_type": "code",
   "execution_count": 9,
   "metadata": {},
   "outputs": [
    {
     "name": "stdout",
     "output_type": "stream",
     "text": [
      "'DOS Header magic not found.'\n",
      "Encabezados de nuestro Dataset creado:\n",
      "   Tamaño del archivo  Tiempo de creación  Tiempo de modificación  \\\n",
      "0              285184        1.741100e+09            1.535140e+09   \n",
      "1               15360        1.741100e+09            1.535140e+09   \n",
      "2              295424        1.741100e+09            1.535140e+09   \n",
      "3               15360        1.741100e+09            1.535140e+09   \n",
      "4               16896        1.741100e+09            1.535140e+09   \n",
      "\n",
      "   Número de secciones          Secciones del archivo  \\\n",
      "0                    3             [UPX0, UPX1, UPX2]   \n",
      "1                    3         [.text, .rdata, .data]   \n",
      "2                    3            [UPX0, UPX1, .rsrc]   \n",
      "3                    3         [.text, .rdata, .data]   \n",
      "4                    4  [.text, .rdata, .data, .rsrc]   \n",
      "\n",
      "                     Llamadas a funciones importadas  \\\n",
      "0  [RegSaveKeyA, BitBlt, LoadLibraryA, ExitProces...   \n",
      "1  [CreateFileA, LocalAlloc, Sleep, CreateThread,...   \n",
      "2  [RegSaveKeyA, BitBlt, LoadLibraryA, GetProcAdd...   \n",
      "3  [CreateFileA, LocalAlloc, Sleep, CreateThread,...   \n",
      "4  [GetModuleHandleA, GetWindowsDirectoryA, GetMo...   \n",
      "\n",
      "  Cadenas de texto incrustadas  \n",
      "0                           []  \n",
      "1                           []  \n",
      "2                           []  \n",
      "3                           []  \n",
      "4                           []  \n"
     ]
    }
   ],
   "source": [
    "dataset = [] # Lista que contendrá las instancias de nuestro dataset\n",
    "\n",
    "for filename in os.listdir(\"MALWR\"): # Iteramos sobre los archivos en la carpeta MALWR\n",
    "    filepath = os.path.join(\"MALWR\", filename) # Obtenemos la ruta completa del archivo\n",
    "\n",
    "    try:\n",
    "        pe = pefile.PE(filepath) # Cargamos el archivo PE en memoria\n",
    "        file_size = os.path.getsize(filepath) # Obtenemos el tamaño del archivo en bytes\n",
    "        creation_time = os.path.getctime(filepath) # Obtenemos la fecha de creación del archivo\n",
    "        modification_time = os.path.getmtime(filepath) # Obtenemos la fecha de modificación del archivo\n",
    "\n",
    "        sections = [section.Name.decode().strip('\\x00') for section in pe.sections] # Obtenemos las secciones del archivo\n",
    "        num_sections = len(sections) # Obtenemos el número de secciones del archivo\n",
    "\n",
    "        # Llamadas a funciones importadas\n",
    "        imported_functions = [] # Lista que contendrá las funciones importadas\n",
    "        for entry in pe.DIRECTORY_ENTRY_IMPORT: # Iteramos sobre las entradas de la tabla de importación\n",
    "            for function in entry.imports: # Iteramos sobre las funciones importadas\n",
    "                imported_functions.append(function.name.decode()) # Agregamos la función a la lista\n",
    "\n",
    "        embedded_strings = [] # Lista que contendrá las cadenas de texto incrustadas\n",
    "        try:\n",
    "            for s in pe.strings: # Iteramos sobre las cadenas de texto incrustadas\n",
    "                if isinstance(s, bytes): # Si la cadena es de tipo bytes la decodificamos\n",
    "                    embedded_strings.append(s.decode(errors='ignore')) # Agregamos la cadena a la lista\n",
    "                else:\n",
    "                    embedded_strings.append(s) # Agregamos la cadena a la lista\n",
    "        except AttributeError:\n",
    "            pass\n",
    "\n",
    "        instance = [file_size, creation_time, modification_time, num_sections, sections, imported_functions, embedded_strings] # Creamos una instancia con los atributos del archivo\n",
    "        dataset.append(instance) # Agregamos la instancia a nuestro dataset\n",
    "    except Exception as e:\n",
    "        print(f\"{str(e)}\")\n",
    "\n",
    "columns = [\"Tamaño del archivo\", \"Tiempo de creación\", \"Tiempo de modificación\", \"Número de secciones\", \"Secciones del archivo\", \"Llamadas a funciones importadas\", \"Cadenas de texto incrustadas\"]\n",
    "df = pd.DataFrame(dataset, columns=columns)\n",
    "print(\"Encabezados de nuestro Dataset creado:\")\n",
    "print(df.head())"
   ]
  },
  {
   "cell_type": "code",
   "execution_count": 5,
   "metadata": {},
   "outputs": [
    {
     "data": {
      "application/vnd.microsoft.datawrangler.viewer.v0+json": {
       "columns": [
        {
         "name": "index",
         "rawType": "int64",
         "type": "integer"
        },
        {
         "name": "Tamaño del archivo",
         "rawType": "int64",
         "type": "integer"
        },
        {
         "name": "Tiempo de creación",
         "rawType": "float64",
         "type": "float"
        },
        {
         "name": "Tiempo de modificación",
         "rawType": "float64",
         "type": "float"
        },
        {
         "name": "Número de secciones",
         "rawType": "int64",
         "type": "integer"
        },
        {
         "name": "Secciones del archivo",
         "rawType": "object",
         "type": "unknown"
        },
        {
         "name": "Llamadas a funciones importadas",
         "rawType": "object",
         "type": "unknown"
        },
        {
         "name": "Cadenas de texto incrustadas",
         "rawType": "object",
         "type": "unknown"
        }
       ],
       "conversionMethod": "pd.DataFrame",
       "ref": "0104716d-4211-454f-bc1b-2829cd686f00",
       "rows": [
        [
         "0",
         "285184",
         "1741100086.042123",
         "1535140403.0",
         "3",
         "['UPX0', 'UPX1', 'UPX2']",
         "['RegSaveKeyA', 'BitBlt', 'LoadLibraryA', 'ExitProcess', 'GetProcAddress', 'VirtualProtect', '_iob', 'Netbios', 'EnumProcessModules', 'GetDC', 'send']",
         "[]"
        ],
        [
         "1",
         "15360",
         "1741100086.0502505",
         "1535140398.0",
         "3",
         "['.text', '.rdata', '.data']",
         "['CreateFileA', 'LocalAlloc', 'Sleep', 'CreateThread', 'CreateMutexA', 'CopyFileW', 'GetFileSize', 'CreateProcessA', 'GetEnvironmentVariableW', 'GetShortPathNameW', 'GetStartupInfoA', 'GetModuleHandleA', 'ReadFile', 'LocalFree', 'GetLastError', 'GetModuleFileNameW', 'CloseHandle', 'SendMessageA', 'FindWindowExA', 'RegQueryValueExA', 'RegCloseKey', 'RegSetValueExW', 'RegOpenKeyExA', 'SHGetSpecialFolderPathW', 'ShellExecuteW', '_controlfp', '_except_handler3', '__set_app_type', 'memset', '__CxxFrameHandler', 'strlen', 'sprintf', 'memcpy', 'strcpy', 'strcat', '_mbsnbcpy', '_mbsnbcmp', 'atol', '_mbscmp', 'atoi', 'fclose', 'fwrite', 'fopen', 'strstr', 'wcslen', 'wcstombs', 'setlocale', 'wcscmp', 'wcscat', 'mbstowcs', 'wcsrchr', 'wcscpy', 'getenv', 'strcmp', 'time', 'free', '__dllonexit', '_onexit', '_exit', '_XcptFilter', 'exit', '_acmdln', '__getmainargs', '_initterm', '__setusermatherr', '_adjust_fdiv', '__p__commode', '__p__fmode', '_strnicmp', 'HttpAddRequestHeadersA', 'HttpOpenRequestA', 'HttpEndRequestA', 'InternetWriteFile', 'HttpSendRequestA', 'InternetReadFile', 'HttpQueryInfoA', 'InternetAttemptConnect', 'InternetCloseHandle', 'InternetConnectA', 'InternetOpenA', 'HttpSendRequestExA', 'gethostbyname', 'inet_ntoa', 'WSAStartup', 'gethostname']",
         "[]"
        ],
        [
         "2",
         "295424",
         "1741100086.058689",
         "1535140403.0",
         "3",
         "['UPX0', 'UPX1', '.rsrc']",
         "['RegSaveKeyA', 'BitBlt', 'LoadLibraryA', 'GetProcAddress', 'VirtualProtect', '_iob', 'Netbios', 'EnumProcessModules', 'GetDC', 'WSASetLastError']",
         "[]"
        ],
        [
         "3",
         "15360",
         "1741100086.0677638",
         "1535140398.0",
         "3",
         "['.text', '.rdata', '.data']",
         "['CreateFileA', 'LocalAlloc', 'Sleep', 'CreateThread', 'CreateMutexA', 'CopyFileW', 'GetFileSize', 'CreateProcessA', 'GetEnvironmentVariableW', 'GetShortPathNameW', 'GetStartupInfoA', 'GetModuleHandleA', 'ReadFile', 'LocalFree', 'GetLastError', 'GetModuleFileNameW', 'CloseHandle', 'SendMessageA', 'FindWindowExA', 'RegQueryValueExA', 'RegCloseKey', 'RegSetValueExW', 'RegOpenKeyExA', 'SHGetSpecialFolderPathW', 'ShellExecuteW', '_controlfp', '_except_handler3', '__set_app_type', 'memset', '__CxxFrameHandler', 'strlen', 'sprintf', 'memcpy', 'strcpy', 'strcat', '_mbsnbcpy', '_mbsnbcmp', 'atol', '_mbscmp', 'atoi', 'fclose', 'fwrite', 'fopen', 'strstr', 'wcslen', 'wcstombs', 'setlocale', 'wcscmp', 'wcscat', 'mbstowcs', 'wcsrchr', 'wcscpy', 'getenv', 'strcmp', 'time', 'free', '__dllonexit', '_onexit', '_exit', '_XcptFilter', 'exit', '_acmdln', '__getmainargs', '_initterm', '__setusermatherr', '_adjust_fdiv', '__p__commode', '__p__fmode', '_strnicmp', 'HttpAddRequestHeadersA', 'HttpOpenRequestA', 'HttpEndRequestA', 'InternetWriteFile', 'HttpSendRequestA', 'InternetReadFile', 'HttpQueryInfoA', 'InternetAttemptConnect', 'InternetCloseHandle', 'InternetConnectA', 'InternetOpenA', 'HttpSendRequestExA', 'gethostbyname', 'inet_ntoa', 'WSAStartup', 'gethostname']",
         "[]"
        ],
        [
         "4",
         "16896",
         "1741100086.07527",
         "1535140398.0",
         "4",
         "['.text', '.rdata', '.data', '.rsrc']",
         "['GetModuleHandleA', 'GetWindowsDirectoryA', 'GetModuleFileNameA', 'CopyFileA', 'OutputDebugStringA', 'CreateProcessA', 'CreateMutexA', 'CreateThread', 'Sleep', 'LocalAlloc', 'CreateFileA', 'GetFileSize', 'ReadFile', 'LocalFree', 'GetLastError', 'GetStartupInfoA', 'CloseHandle', 'SendMessageA', 'FindWindowExA', 'OpenSCManagerA', 'CreateServiceA', 'ChangeServiceConfig2A', 'OpenServiceA', 'CloseServiceHandle', 'StartServiceA', 'QueryServiceStatus', 'RegisterServiceCtrlHandlerA', 'SetServiceStatus', 'StartServiceCtrlDispatcherA', 'RegOpenKeyExA', 'RegQueryValueExA', 'RegCloseKey', '_controlfp', 'memset', '__CxxFrameHandler', 'strlen', 'sprintf', 'memcpy', 'strcpy', 'strcat', '_mbsnbcpy', '_mbsnbcmp', 'atol', '_mbscmp', 'atoi', 'fclose', 'fwrite', 'fopen', 'strstr', 'getenv', 'strcmp', 'time', 'printf', 'free', '__dllonexit', '_onexit', '_exit', '_XcptFilter', 'exit', '_acmdln', '__getmainargs', '_initterm', '__setusermatherr', '_adjust_fdiv', '__p__commode', '__p__fmode', '__set_app_type', '_except_handler3', '_strnicmp', 'HttpAddRequestHeadersA', 'HttpOpenRequestA', 'HttpEndRequestA', 'InternetWriteFile', 'HttpSendRequestExA', 'InternetReadFile', 'HttpSendRequestA', 'InternetCloseHandle', 'InternetOpenA', 'InternetAttemptConnect', 'InternetConnectA', 'HttpQueryInfoA', 'gethostbyname', 'inet_ntoa', 'WSAStartup', 'gethostname']",
         "[]"
        ]
       ],
       "shape": {
        "columns": 7,
        "rows": 5
       }
      },
      "text/html": [
       "<div>\n",
       "<style scoped>\n",
       "    .dataframe tbody tr th:only-of-type {\n",
       "        vertical-align: middle;\n",
       "    }\n",
       "\n",
       "    .dataframe tbody tr th {\n",
       "        vertical-align: top;\n",
       "    }\n",
       "\n",
       "    .dataframe thead th {\n",
       "        text-align: right;\n",
       "    }\n",
       "</style>\n",
       "<table border=\"1\" class=\"dataframe\">\n",
       "  <thead>\n",
       "    <tr style=\"text-align: right;\">\n",
       "      <th></th>\n",
       "      <th>Tamaño del archivo</th>\n",
       "      <th>Tiempo de creación</th>\n",
       "      <th>Tiempo de modificación</th>\n",
       "      <th>Número de secciones</th>\n",
       "      <th>Secciones del archivo</th>\n",
       "      <th>Llamadas a funciones importadas</th>\n",
       "      <th>Cadenas de texto incrustadas</th>\n",
       "    </tr>\n",
       "  </thead>\n",
       "  <tbody>\n",
       "    <tr>\n",
       "      <th>0</th>\n",
       "      <td>285184</td>\n",
       "      <td>1.741100e+09</td>\n",
       "      <td>1.535140e+09</td>\n",
       "      <td>3</td>\n",
       "      <td>[UPX0, UPX1, UPX2]</td>\n",
       "      <td>[RegSaveKeyA, BitBlt, LoadLibraryA, ExitProces...</td>\n",
       "      <td>[]</td>\n",
       "    </tr>\n",
       "    <tr>\n",
       "      <th>1</th>\n",
       "      <td>15360</td>\n",
       "      <td>1.741100e+09</td>\n",
       "      <td>1.535140e+09</td>\n",
       "      <td>3</td>\n",
       "      <td>[.text, .rdata, .data]</td>\n",
       "      <td>[CreateFileA, LocalAlloc, Sleep, CreateThread,...</td>\n",
       "      <td>[]</td>\n",
       "    </tr>\n",
       "    <tr>\n",
       "      <th>2</th>\n",
       "      <td>295424</td>\n",
       "      <td>1.741100e+09</td>\n",
       "      <td>1.535140e+09</td>\n",
       "      <td>3</td>\n",
       "      <td>[UPX0, UPX1, .rsrc]</td>\n",
       "      <td>[RegSaveKeyA, BitBlt, LoadLibraryA, GetProcAdd...</td>\n",
       "      <td>[]</td>\n",
       "    </tr>\n",
       "    <tr>\n",
       "      <th>3</th>\n",
       "      <td>15360</td>\n",
       "      <td>1.741100e+09</td>\n",
       "      <td>1.535140e+09</td>\n",
       "      <td>3</td>\n",
       "      <td>[.text, .rdata, .data]</td>\n",
       "      <td>[CreateFileA, LocalAlloc, Sleep, CreateThread,...</td>\n",
       "      <td>[]</td>\n",
       "    </tr>\n",
       "    <tr>\n",
       "      <th>4</th>\n",
       "      <td>16896</td>\n",
       "      <td>1.741100e+09</td>\n",
       "      <td>1.535140e+09</td>\n",
       "      <td>4</td>\n",
       "      <td>[.text, .rdata, .data, .rsrc]</td>\n",
       "      <td>[GetModuleHandleA, GetWindowsDirectoryA, GetMo...</td>\n",
       "      <td>[]</td>\n",
       "    </tr>\n",
       "  </tbody>\n",
       "</table>\n",
       "</div>"
      ],
      "text/plain": [
       "   Tamaño del archivo  Tiempo de creación  Tiempo de modificación  \\\n",
       "0              285184        1.741100e+09            1.535140e+09   \n",
       "1               15360        1.741100e+09            1.535140e+09   \n",
       "2              295424        1.741100e+09            1.535140e+09   \n",
       "3               15360        1.741100e+09            1.535140e+09   \n",
       "4               16896        1.741100e+09            1.535140e+09   \n",
       "\n",
       "   Número de secciones          Secciones del archivo  \\\n",
       "0                    3             [UPX0, UPX1, UPX2]   \n",
       "1                    3         [.text, .rdata, .data]   \n",
       "2                    3            [UPX0, UPX1, .rsrc]   \n",
       "3                    3         [.text, .rdata, .data]   \n",
       "4                    4  [.text, .rdata, .data, .rsrc]   \n",
       "\n",
       "                     Llamadas a funciones importadas  \\\n",
       "0  [RegSaveKeyA, BitBlt, LoadLibraryA, ExitProces...   \n",
       "1  [CreateFileA, LocalAlloc, Sleep, CreateThread,...   \n",
       "2  [RegSaveKeyA, BitBlt, LoadLibraryA, GetProcAdd...   \n",
       "3  [CreateFileA, LocalAlloc, Sleep, CreateThread,...   \n",
       "4  [GetModuleHandleA, GetWindowsDirectoryA, GetMo...   \n",
       "\n",
       "  Cadenas de texto incrustadas  \n",
       "0                           []  \n",
       "1                           []  \n",
       "2                           []  \n",
       "3                           []  \n",
       "4                           []  "
      ]
     },
     "execution_count": 5,
     "metadata": {},
     "output_type": "execute_result"
    }
   ],
   "source": [
    "df.head()"
   ]
  },
  {
   "cell_type": "code",
   "execution_count": 11,
   "metadata": {},
   "outputs": [
    {
     "data": {
      "application/vnd.microsoft.datawrangler.viewer.v0+json": {
       "columns": [
        {
         "name": "index",
         "rawType": "object",
         "type": "string"
        },
        {
         "name": "Tamaño del archivo",
         "rawType": "float64",
         "type": "float"
        },
        {
         "name": "Tiempo de creación",
         "rawType": "float64",
         "type": "float"
        },
        {
         "name": "Tiempo de modificación",
         "rawType": "float64",
         "type": "float"
        },
        {
         "name": "Número de secciones",
         "rawType": "float64",
         "type": "float"
        }
       ],
       "conversionMethod": "pd.DataFrame",
       "ref": "3a2f533d-06da-43e8-8cc6-e246073fd4b2",
       "rows": [
        [
         "count",
         "13.0",
         "13.0",
         "13.0",
         "13.0"
        ],
        [
         "mean",
         "104487.38461538461",
         "1741100086.0967011",
         "1535140399.9230769",
         "3.076923076923077"
        ],
        [
         "std",
         "139879.8089203361",
         "0.035914148175730576",
         "3.0946604138294527",
         "0.2773500981126146"
        ],
        [
         "min",
         "14336.0",
         "1741100086.042123",
         "1535140398.0",
         "3.0"
        ],
        [
         "25%",
         "15360.0",
         "1741100086.0677638",
         "1535140398.0",
         "3.0"
        ],
        [
         "50%",
         "15360.0",
         "1741100086.0975037",
         "1535140398.0",
         "3.0"
        ],
        [
         "75%",
         "285184.0",
         "1741100086.1264062",
         "1535140403.0",
         "3.0"
        ],
        [
         "max",
         "344576.0",
         "1741100086.1426039",
         "1535140406.0",
         "4.0"
        ]
       ],
       "shape": {
        "columns": 4,
        "rows": 8
       }
      },
      "text/html": [
       "<div>\n",
       "<style scoped>\n",
       "    .dataframe tbody tr th:only-of-type {\n",
       "        vertical-align: middle;\n",
       "    }\n",
       "\n",
       "    .dataframe tbody tr th {\n",
       "        vertical-align: top;\n",
       "    }\n",
       "\n",
       "    .dataframe thead th {\n",
       "        text-align: right;\n",
       "    }\n",
       "</style>\n",
       "<table border=\"1\" class=\"dataframe\">\n",
       "  <thead>\n",
       "    <tr style=\"text-align: right;\">\n",
       "      <th></th>\n",
       "      <th>Tamaño del archivo</th>\n",
       "      <th>Tiempo de creación</th>\n",
       "      <th>Tiempo de modificación</th>\n",
       "      <th>Número de secciones</th>\n",
       "    </tr>\n",
       "  </thead>\n",
       "  <tbody>\n",
       "    <tr>\n",
       "      <th>count</th>\n",
       "      <td>13.000000</td>\n",
       "      <td>1.300000e+01</td>\n",
       "      <td>1.300000e+01</td>\n",
       "      <td>13.000000</td>\n",
       "    </tr>\n",
       "    <tr>\n",
       "      <th>mean</th>\n",
       "      <td>104487.384615</td>\n",
       "      <td>1.741100e+09</td>\n",
       "      <td>1.535140e+09</td>\n",
       "      <td>3.076923</td>\n",
       "    </tr>\n",
       "    <tr>\n",
       "      <th>std</th>\n",
       "      <td>139879.808920</td>\n",
       "      <td>3.591415e-02</td>\n",
       "      <td>3.094660e+00</td>\n",
       "      <td>0.277350</td>\n",
       "    </tr>\n",
       "    <tr>\n",
       "      <th>min</th>\n",
       "      <td>14336.000000</td>\n",
       "      <td>1.741100e+09</td>\n",
       "      <td>1.535140e+09</td>\n",
       "      <td>3.000000</td>\n",
       "    </tr>\n",
       "    <tr>\n",
       "      <th>25%</th>\n",
       "      <td>15360.000000</td>\n",
       "      <td>1.741100e+09</td>\n",
       "      <td>1.535140e+09</td>\n",
       "      <td>3.000000</td>\n",
       "    </tr>\n",
       "    <tr>\n",
       "      <th>50%</th>\n",
       "      <td>15360.000000</td>\n",
       "      <td>1.741100e+09</td>\n",
       "      <td>1.535140e+09</td>\n",
       "      <td>3.000000</td>\n",
       "    </tr>\n",
       "    <tr>\n",
       "      <th>75%</th>\n",
       "      <td>285184.000000</td>\n",
       "      <td>1.741100e+09</td>\n",
       "      <td>1.535140e+09</td>\n",
       "      <td>3.000000</td>\n",
       "    </tr>\n",
       "    <tr>\n",
       "      <th>max</th>\n",
       "      <td>344576.000000</td>\n",
       "      <td>1.741100e+09</td>\n",
       "      <td>1.535140e+09</td>\n",
       "      <td>4.000000</td>\n",
       "    </tr>\n",
       "  </tbody>\n",
       "</table>\n",
       "</div>"
      ],
      "text/plain": [
       "       Tamaño del archivo  Tiempo de creación  Tiempo de modificación  \\\n",
       "count           13.000000        1.300000e+01            1.300000e+01   \n",
       "mean        104487.384615        1.741100e+09            1.535140e+09   \n",
       "std         139879.808920        3.591415e-02            3.094660e+00   \n",
       "min          14336.000000        1.741100e+09            1.535140e+09   \n",
       "25%          15360.000000        1.741100e+09            1.535140e+09   \n",
       "50%          15360.000000        1.741100e+09            1.535140e+09   \n",
       "75%         285184.000000        1.741100e+09            1.535140e+09   \n",
       "max         344576.000000        1.741100e+09            1.535140e+09   \n",
       "\n",
       "       Número de secciones  \n",
       "count            13.000000  \n",
       "mean              3.076923  \n",
       "std               0.277350  \n",
       "min               3.000000  \n",
       "25%               3.000000  \n",
       "50%               3.000000  \n",
       "75%               3.000000  \n",
       "max               4.000000  "
      ]
     },
     "execution_count": 11,
     "metadata": {},
     "output_type": "execute_result"
    }
   ],
   "source": [
    "df.describe()"
   ]
  },
  {
   "cell_type": "code",
   "execution_count": 12,
   "metadata": {},
   "outputs": [
    {
     "name": "stdout",
     "output_type": "stream",
     "text": [
      "<class 'pandas.core.frame.DataFrame'>\n",
      "RangeIndex: 13 entries, 0 to 12\n",
      "Data columns (total 7 columns):\n",
      " #   Column                           Non-Null Count  Dtype  \n",
      "---  ------                           --------------  -----  \n",
      " 0   Tamaño del archivo               13 non-null     int64  \n",
      " 1   Tiempo de creación               13 non-null     float64\n",
      " 2   Tiempo de modificación           13 non-null     float64\n",
      " 3   Número de secciones              13 non-null     int64  \n",
      " 4   Secciones del archivo            13 non-null     object \n",
      " 5   Llamadas a funciones importadas  13 non-null     object \n",
      " 6   Cadenas de texto incrustadas     13 non-null     object \n",
      "dtypes: float64(2), int64(2), object(3)\n",
      "memory usage: 856.0+ bytes\n"
     ]
    }
   ],
   "source": [
    "df.info()"
   ]
  },
  {
   "cell_type": "markdown",
   "metadata": {},
   "source": [
    "## Exploración y pre-procesamiento de datos"
   ]
  },
  {
   "cell_type": "code",
   "execution_count": 13,
   "metadata": {},
   "outputs": [
    {
     "name": "stdout",
     "output_type": "stream",
     "text": [
      "Cantidad de cadenas incrustadas\n",
      "0    13\n",
      "Name: count, dtype: int64\n"
     ]
    }
   ],
   "source": [
    "df['Cantidad de cadenas incrustadas'] = df['Cadenas de texto incrustadas'].apply(len)\n",
    "print(df['Cantidad de cadenas incrustadas'].value_counts())"
   ]
  },
  {
   "cell_type": "code",
   "execution_count": 14,
   "metadata": {},
   "outputs": [],
   "source": [
    "df.drop('Cadenas de texto incrustadas', axis=1, inplace=True)\n",
    "df.drop('Cantidad de cadenas incrustadas', axis=1, inplace=True)"
   ]
  },
  {
   "cell_type": "code",
   "execution_count": 15,
   "metadata": {},
   "outputs": [
    {
     "name": "stdout",
     "output_type": "stream",
     "text": [
      "Encabezado del Dataset con Nombres de Columnas Actualizados:\n"
     ]
    },
    {
     "data": {
      "application/vnd.microsoft.datawrangler.viewer.v0+json": {
       "columns": [
        {
         "name": "index",
         "rawType": "int64",
         "type": "integer"
        },
        {
         "name": "file_size",
         "rawType": "int64",
         "type": "integer"
        },
        {
         "name": "creation_time",
         "rawType": "float64",
         "type": "float"
        },
        {
         "name": "modification_time",
         "rawType": "float64",
         "type": "float"
        },
        {
         "name": "num_sections",
         "rawType": "int64",
         "type": "integer"
        },
        {
         "name": "file_sections",
         "rawType": "object",
         "type": "unknown"
        },
        {
         "name": "imported_function_calls",
         "rawType": "object",
         "type": "unknown"
        }
       ],
       "conversionMethod": "pd.DataFrame",
       "ref": "e544c724-023f-41b3-919e-c7d7779f5619",
       "rows": [
        [
         "0",
         "285184",
         "1741100086.042123",
         "1535140403.0",
         "3",
         "['UPX0', 'UPX1', 'UPX2']",
         "['RegSaveKeyA', 'BitBlt', 'LoadLibraryA', 'ExitProcess', 'GetProcAddress', 'VirtualProtect', '_iob', 'Netbios', 'EnumProcessModules', 'GetDC', 'send']"
        ],
        [
         "1",
         "15360",
         "1741100086.0502505",
         "1535140398.0",
         "3",
         "['.text', '.rdata', '.data']",
         "['CreateFileA', 'LocalAlloc', 'Sleep', 'CreateThread', 'CreateMutexA', 'CopyFileW', 'GetFileSize', 'CreateProcessA', 'GetEnvironmentVariableW', 'GetShortPathNameW', 'GetStartupInfoA', 'GetModuleHandleA', 'ReadFile', 'LocalFree', 'GetLastError', 'GetModuleFileNameW', 'CloseHandle', 'SendMessageA', 'FindWindowExA', 'RegQueryValueExA', 'RegCloseKey', 'RegSetValueExW', 'RegOpenKeyExA', 'SHGetSpecialFolderPathW', 'ShellExecuteW', '_controlfp', '_except_handler3', '__set_app_type', 'memset', '__CxxFrameHandler', 'strlen', 'sprintf', 'memcpy', 'strcpy', 'strcat', '_mbsnbcpy', '_mbsnbcmp', 'atol', '_mbscmp', 'atoi', 'fclose', 'fwrite', 'fopen', 'strstr', 'wcslen', 'wcstombs', 'setlocale', 'wcscmp', 'wcscat', 'mbstowcs', 'wcsrchr', 'wcscpy', 'getenv', 'strcmp', 'time', 'free', '__dllonexit', '_onexit', '_exit', '_XcptFilter', 'exit', '_acmdln', '__getmainargs', '_initterm', '__setusermatherr', '_adjust_fdiv', '__p__commode', '__p__fmode', '_strnicmp', 'HttpAddRequestHeadersA', 'HttpOpenRequestA', 'HttpEndRequestA', 'InternetWriteFile', 'HttpSendRequestA', 'InternetReadFile', 'HttpQueryInfoA', 'InternetAttemptConnect', 'InternetCloseHandle', 'InternetConnectA', 'InternetOpenA', 'HttpSendRequestExA', 'gethostbyname', 'inet_ntoa', 'WSAStartup', 'gethostname']"
        ],
        [
         "2",
         "295424",
         "1741100086.058689",
         "1535140403.0",
         "3",
         "['UPX0', 'UPX1', '.rsrc']",
         "['RegSaveKeyA', 'BitBlt', 'LoadLibraryA', 'GetProcAddress', 'VirtualProtect', '_iob', 'Netbios', 'EnumProcessModules', 'GetDC', 'WSASetLastError']"
        ],
        [
         "3",
         "15360",
         "1741100086.0677638",
         "1535140398.0",
         "3",
         "['.text', '.rdata', '.data']",
         "['CreateFileA', 'LocalAlloc', 'Sleep', 'CreateThread', 'CreateMutexA', 'CopyFileW', 'GetFileSize', 'CreateProcessA', 'GetEnvironmentVariableW', 'GetShortPathNameW', 'GetStartupInfoA', 'GetModuleHandleA', 'ReadFile', 'LocalFree', 'GetLastError', 'GetModuleFileNameW', 'CloseHandle', 'SendMessageA', 'FindWindowExA', 'RegQueryValueExA', 'RegCloseKey', 'RegSetValueExW', 'RegOpenKeyExA', 'SHGetSpecialFolderPathW', 'ShellExecuteW', '_controlfp', '_except_handler3', '__set_app_type', 'memset', '__CxxFrameHandler', 'strlen', 'sprintf', 'memcpy', 'strcpy', 'strcat', '_mbsnbcpy', '_mbsnbcmp', 'atol', '_mbscmp', 'atoi', 'fclose', 'fwrite', 'fopen', 'strstr', 'wcslen', 'wcstombs', 'setlocale', 'wcscmp', 'wcscat', 'mbstowcs', 'wcsrchr', 'wcscpy', 'getenv', 'strcmp', 'time', 'free', '__dllonexit', '_onexit', '_exit', '_XcptFilter', 'exit', '_acmdln', '__getmainargs', '_initterm', '__setusermatherr', '_adjust_fdiv', '__p__commode', '__p__fmode', '_strnicmp', 'HttpAddRequestHeadersA', 'HttpOpenRequestA', 'HttpEndRequestA', 'InternetWriteFile', 'HttpSendRequestA', 'InternetReadFile', 'HttpQueryInfoA', 'InternetAttemptConnect', 'InternetCloseHandle', 'InternetConnectA', 'InternetOpenA', 'HttpSendRequestExA', 'gethostbyname', 'inet_ntoa', 'WSAStartup', 'gethostname']"
        ],
        [
         "4",
         "16896",
         "1741100086.07527",
         "1535140398.0",
         "4",
         "['.text', '.rdata', '.data', '.rsrc']",
         "['GetModuleHandleA', 'GetWindowsDirectoryA', 'GetModuleFileNameA', 'CopyFileA', 'OutputDebugStringA', 'CreateProcessA', 'CreateMutexA', 'CreateThread', 'Sleep', 'LocalAlloc', 'CreateFileA', 'GetFileSize', 'ReadFile', 'LocalFree', 'GetLastError', 'GetStartupInfoA', 'CloseHandle', 'SendMessageA', 'FindWindowExA', 'OpenSCManagerA', 'CreateServiceA', 'ChangeServiceConfig2A', 'OpenServiceA', 'CloseServiceHandle', 'StartServiceA', 'QueryServiceStatus', 'RegisterServiceCtrlHandlerA', 'SetServiceStatus', 'StartServiceCtrlDispatcherA', 'RegOpenKeyExA', 'RegQueryValueExA', 'RegCloseKey', '_controlfp', 'memset', '__CxxFrameHandler', 'strlen', 'sprintf', 'memcpy', 'strcpy', 'strcat', '_mbsnbcpy', '_mbsnbcmp', 'atol', '_mbscmp', 'atoi', 'fclose', 'fwrite', 'fopen', 'strstr', 'getenv', 'strcmp', 'time', 'printf', 'free', '__dllonexit', '_onexit', '_exit', '_XcptFilter', 'exit', '_acmdln', '__getmainargs', '_initterm', '__setusermatherr', '_adjust_fdiv', '__p__commode', '__p__fmode', '__set_app_type', '_except_handler3', '_strnicmp', 'HttpAddRequestHeadersA', 'HttpOpenRequestA', 'HttpEndRequestA', 'InternetWriteFile', 'HttpSendRequestExA', 'InternetReadFile', 'HttpSendRequestA', 'InternetCloseHandle', 'InternetOpenA', 'InternetAttemptConnect', 'InternetConnectA', 'HttpQueryInfoA', 'gethostbyname', 'inet_ntoa', 'WSAStartup', 'gethostname']"
        ]
       ],
       "shape": {
        "columns": 6,
        "rows": 5
       }
      },
      "text/html": [
       "<div>\n",
       "<style scoped>\n",
       "    .dataframe tbody tr th:only-of-type {\n",
       "        vertical-align: middle;\n",
       "    }\n",
       "\n",
       "    .dataframe tbody tr th {\n",
       "        vertical-align: top;\n",
       "    }\n",
       "\n",
       "    .dataframe thead th {\n",
       "        text-align: right;\n",
       "    }\n",
       "</style>\n",
       "<table border=\"1\" class=\"dataframe\">\n",
       "  <thead>\n",
       "    <tr style=\"text-align: right;\">\n",
       "      <th></th>\n",
       "      <th>file_size</th>\n",
       "      <th>creation_time</th>\n",
       "      <th>modification_time</th>\n",
       "      <th>num_sections</th>\n",
       "      <th>file_sections</th>\n",
       "      <th>imported_function_calls</th>\n",
       "    </tr>\n",
       "  </thead>\n",
       "  <tbody>\n",
       "    <tr>\n",
       "      <th>0</th>\n",
       "      <td>285184</td>\n",
       "      <td>1.741100e+09</td>\n",
       "      <td>1.535140e+09</td>\n",
       "      <td>3</td>\n",
       "      <td>[UPX0, UPX1, UPX2]</td>\n",
       "      <td>[RegSaveKeyA, BitBlt, LoadLibraryA, ExitProces...</td>\n",
       "    </tr>\n",
       "    <tr>\n",
       "      <th>1</th>\n",
       "      <td>15360</td>\n",
       "      <td>1.741100e+09</td>\n",
       "      <td>1.535140e+09</td>\n",
       "      <td>3</td>\n",
       "      <td>[.text, .rdata, .data]</td>\n",
       "      <td>[CreateFileA, LocalAlloc, Sleep, CreateThread,...</td>\n",
       "    </tr>\n",
       "    <tr>\n",
       "      <th>2</th>\n",
       "      <td>295424</td>\n",
       "      <td>1.741100e+09</td>\n",
       "      <td>1.535140e+09</td>\n",
       "      <td>3</td>\n",
       "      <td>[UPX0, UPX1, .rsrc]</td>\n",
       "      <td>[RegSaveKeyA, BitBlt, LoadLibraryA, GetProcAdd...</td>\n",
       "    </tr>\n",
       "    <tr>\n",
       "      <th>3</th>\n",
       "      <td>15360</td>\n",
       "      <td>1.741100e+09</td>\n",
       "      <td>1.535140e+09</td>\n",
       "      <td>3</td>\n",
       "      <td>[.text, .rdata, .data]</td>\n",
       "      <td>[CreateFileA, LocalAlloc, Sleep, CreateThread,...</td>\n",
       "    </tr>\n",
       "    <tr>\n",
       "      <th>4</th>\n",
       "      <td>16896</td>\n",
       "      <td>1.741100e+09</td>\n",
       "      <td>1.535140e+09</td>\n",
       "      <td>4</td>\n",
       "      <td>[.text, .rdata, .data, .rsrc]</td>\n",
       "      <td>[GetModuleHandleA, GetWindowsDirectoryA, GetMo...</td>\n",
       "    </tr>\n",
       "  </tbody>\n",
       "</table>\n",
       "</div>"
      ],
      "text/plain": [
       "   file_size  creation_time  modification_time  num_sections  \\\n",
       "0     285184   1.741100e+09       1.535140e+09             3   \n",
       "1      15360   1.741100e+09       1.535140e+09             3   \n",
       "2     295424   1.741100e+09       1.535140e+09             3   \n",
       "3      15360   1.741100e+09       1.535140e+09             3   \n",
       "4      16896   1.741100e+09       1.535140e+09             4   \n",
       "\n",
       "                   file_sections  \\\n",
       "0             [UPX0, UPX1, UPX2]   \n",
       "1         [.text, .rdata, .data]   \n",
       "2            [UPX0, UPX1, .rsrc]   \n",
       "3         [.text, .rdata, .data]   \n",
       "4  [.text, .rdata, .data, .rsrc]   \n",
       "\n",
       "                             imported_function_calls  \n",
       "0  [RegSaveKeyA, BitBlt, LoadLibraryA, ExitProces...  \n",
       "1  [CreateFileA, LocalAlloc, Sleep, CreateThread,...  \n",
       "2  [RegSaveKeyA, BitBlt, LoadLibraryA, GetProcAdd...  \n",
       "3  [CreateFileA, LocalAlloc, Sleep, CreateThread,...  \n",
       "4  [GetModuleHandleA, GetWindowsDirectoryA, GetMo...  "
      ]
     },
     "execution_count": 15,
     "metadata": {},
     "output_type": "execute_result"
    }
   ],
   "source": [
    "df.rename(columns={\n",
    "    'Tamaño del archivo': 'file_size',\n",
    "    'Tiempo de creación': 'creation_time',\n",
    "    'Tiempo de modificación': 'modification_time',\n",
    "    'Número de secciones': 'num_sections',\n",
    "    'Secciones del archivo': 'file_sections',\n",
    "    'Llamadas a funciones importadas': 'imported_function_calls',\n",
    "    'Cadenas de texto incrustadas': 'embedded_strings',\n",
    "    'Cantidad de cadenas incrustadas': 'num_embedded_strings'\n",
    "}, inplace=True)\n",
    "print(\"Encabezado del Dataset con Nombres de Columnas Actualizados:\")\n",
    "df.head()"
   ]
  },
  {
   "cell_type": "code",
   "execution_count": 17,
   "metadata": {},
   "outputs": [
    {
     "name": "stdout",
     "output_type": "stream",
     "text": [
      "Encabezado del Dataset ya Procesado:\n"
     ]
    },
    {
     "data": {
      "application/vnd.microsoft.datawrangler.viewer.v0+json": {
       "columns": [
        {
         "name": "index",
         "rawType": "int64",
         "type": "integer"
        },
        {
         "name": "file_size",
         "rawType": "float64",
         "type": "float"
        },
        {
         "name": "creation_time",
         "rawType": "float64",
         "type": "float"
        },
        {
         "name": "modification_time",
         "rawType": "float64",
         "type": "float"
        },
        {
         "name": "num_sections",
         "rawType": "int64",
         "type": "integer"
        },
        {
         "name": ".data",
         "rawType": "int32",
         "type": "integer"
        },
        {
         "name": ".rdata",
         "rawType": "int32",
         "type": "integer"
        },
        {
         "name": ".rsrc",
         "rawType": "int32",
         "type": "integer"
        },
        {
         "name": ".text",
         "rawType": "int32",
         "type": "integer"
        },
        {
         "name": "UPX0",
         "rawType": "int32",
         "type": "integer"
        },
        {
         "name": "UPX1",
         "rawType": "int32",
         "type": "integer"
        },
        {
         "name": "UPX2",
         "rawType": "int32",
         "type": "integer"
        },
        {
         "name": "BitBlt",
         "rawType": "int32",
         "type": "integer"
        },
        {
         "name": "ChangeServiceConfig2A",
         "rawType": "int32",
         "type": "integer"
        },
        {
         "name": "CloseHandle",
         "rawType": "int32",
         "type": "integer"
        },
        {
         "name": "CloseServiceHandle",
         "rawType": "int32",
         "type": "integer"
        },
        {
         "name": "CopyFileA",
         "rawType": "int32",
         "type": "integer"
        },
        {
         "name": "CopyFileW",
         "rawType": "int32",
         "type": "integer"
        },
        {
         "name": "CreateFileA",
         "rawType": "int32",
         "type": "integer"
        },
        {
         "name": "CreateMutexA",
         "rawType": "int32",
         "type": "integer"
        },
        {
         "name": "CreateProcessA",
         "rawType": "int32",
         "type": "integer"
        },
        {
         "name": "CreateServiceA",
         "rawType": "int32",
         "type": "integer"
        },
        {
         "name": "CreateThread",
         "rawType": "int32",
         "type": "integer"
        },
        {
         "name": "EnumProcessModules",
         "rawType": "int32",
         "type": "integer"
        },
        {
         "name": "ExitProcess",
         "rawType": "int32",
         "type": "integer"
        },
        {
         "name": "FindWindowExA",
         "rawType": "int32",
         "type": "integer"
        },
        {
         "name": "GetDC",
         "rawType": "int32",
         "type": "integer"
        },
        {
         "name": "GetEnvironmentVariableW",
         "rawType": "int32",
         "type": "integer"
        },
        {
         "name": "GetFileSize",
         "rawType": "int32",
         "type": "integer"
        },
        {
         "name": "GetLastError",
         "rawType": "int32",
         "type": "integer"
        },
        {
         "name": "GetModuleFileNameA",
         "rawType": "int32",
         "type": "integer"
        },
        {
         "name": "GetModuleFileNameW",
         "rawType": "int32",
         "type": "integer"
        },
        {
         "name": "GetModuleHandleA",
         "rawType": "int32",
         "type": "integer"
        },
        {
         "name": "GetProcAddress",
         "rawType": "int32",
         "type": "integer"
        },
        {
         "name": "GetShortPathNameW",
         "rawType": "int32",
         "type": "integer"
        },
        {
         "name": "GetStartupInfoA",
         "rawType": "int32",
         "type": "integer"
        },
        {
         "name": "GetWindowsDirectoryA",
         "rawType": "int32",
         "type": "integer"
        },
        {
         "name": "HttpAddRequestHeadersA",
         "rawType": "int32",
         "type": "integer"
        },
        {
         "name": "HttpEndRequestA",
         "rawType": "int32",
         "type": "integer"
        },
        {
         "name": "HttpOpenRequestA",
         "rawType": "int32",
         "type": "integer"
        },
        {
         "name": "HttpQueryInfoA",
         "rawType": "int32",
         "type": "integer"
        },
        {
         "name": "HttpSendRequestA",
         "rawType": "int32",
         "type": "integer"
        },
        {
         "name": "HttpSendRequestExA",
         "rawType": "int32",
         "type": "integer"
        },
        {
         "name": "InternetAttemptConnect",
         "rawType": "int32",
         "type": "integer"
        },
        {
         "name": "InternetCloseHandle",
         "rawType": "int32",
         "type": "integer"
        },
        {
         "name": "InternetConnectA",
         "rawType": "int32",
         "type": "integer"
        },
        {
         "name": "InternetOpenA",
         "rawType": "int32",
         "type": "integer"
        },
        {
         "name": "InternetReadFile",
         "rawType": "int32",
         "type": "integer"
        },
        {
         "name": "InternetWriteFile",
         "rawType": "int32",
         "type": "integer"
        },
        {
         "name": "LoadLibraryA",
         "rawType": "int32",
         "type": "integer"
        },
        {
         "name": "LocalAlloc",
         "rawType": "int32",
         "type": "integer"
        },
        {
         "name": "LocalFree",
         "rawType": "int32",
         "type": "integer"
        },
        {
         "name": "Netbios",
         "rawType": "int32",
         "type": "integer"
        },
        {
         "name": "OpenSCManagerA",
         "rawType": "int32",
         "type": "integer"
        },
        {
         "name": "OpenServiceA",
         "rawType": "int32",
         "type": "integer"
        },
        {
         "name": "OutputDebugStringA",
         "rawType": "int32",
         "type": "integer"
        },
        {
         "name": "QueryServiceStatus",
         "rawType": "int32",
         "type": "integer"
        },
        {
         "name": "ReadFile",
         "rawType": "int32",
         "type": "integer"
        },
        {
         "name": "RegCloseKey",
         "rawType": "int32",
         "type": "integer"
        },
        {
         "name": "RegOpenKeyExA",
         "rawType": "int32",
         "type": "integer"
        },
        {
         "name": "RegQueryValueExA",
         "rawType": "int32",
         "type": "integer"
        },
        {
         "name": "RegSaveKeyA",
         "rawType": "int32",
         "type": "integer"
        },
        {
         "name": "RegSetValueExW",
         "rawType": "int32",
         "type": "integer"
        },
        {
         "name": "RegisterServiceCtrlHandlerA",
         "rawType": "int32",
         "type": "integer"
        },
        {
         "name": "SHGetSpecialFolderPathW",
         "rawType": "int32",
         "type": "integer"
        },
        {
         "name": "SendMessageA",
         "rawType": "int32",
         "type": "integer"
        },
        {
         "name": "SetServiceStatus",
         "rawType": "int32",
         "type": "integer"
        },
        {
         "name": "ShellExecuteA",
         "rawType": "int32",
         "type": "integer"
        },
        {
         "name": "ShellExecuteW",
         "rawType": "int32",
         "type": "integer"
        },
        {
         "name": "Sleep",
         "rawType": "int32",
         "type": "integer"
        },
        {
         "name": "StartServiceA",
         "rawType": "int32",
         "type": "integer"
        },
        {
         "name": "StartServiceCtrlDispatcherA",
         "rawType": "int32",
         "type": "integer"
        },
        {
         "name": "VirtualProtect",
         "rawType": "int32",
         "type": "integer"
        },
        {
         "name": "WSAGetLastError",
         "rawType": "int32",
         "type": "integer"
        },
        {
         "name": "WSASetLastError",
         "rawType": "int32",
         "type": "integer"
        },
        {
         "name": "WSAStartup",
         "rawType": "int32",
         "type": "integer"
        },
        {
         "name": "_XcptFilter",
         "rawType": "int32",
         "type": "integer"
        },
        {
         "name": "__CxxFrameHandler",
         "rawType": "int32",
         "type": "integer"
        },
        {
         "name": "__dllonexit",
         "rawType": "int32",
         "type": "integer"
        },
        {
         "name": "__getmainargs",
         "rawType": "int32",
         "type": "integer"
        },
        {
         "name": "__p__commode",
         "rawType": "int32",
         "type": "integer"
        },
        {
         "name": "__p__fmode",
         "rawType": "int32",
         "type": "integer"
        },
        {
         "name": "__set_app_type",
         "rawType": "int32",
         "type": "integer"
        },
        {
         "name": "__setusermatherr",
         "rawType": "int32",
         "type": "integer"
        },
        {
         "name": "_acmdln",
         "rawType": "int32",
         "type": "integer"
        },
        {
         "name": "_adjust_fdiv",
         "rawType": "int32",
         "type": "integer"
        },
        {
         "name": "_controlfp",
         "rawType": "int32",
         "type": "integer"
        },
        {
         "name": "_except_handler3",
         "rawType": "int32",
         "type": "integer"
        },
        {
         "name": "_exit",
         "rawType": "int32",
         "type": "integer"
        },
        {
         "name": "_initterm",
         "rawType": "int32",
         "type": "integer"
        },
        {
         "name": "_iob",
         "rawType": "int32",
         "type": "integer"
        },
        {
         "name": "_mbscmp",
         "rawType": "int32",
         "type": "integer"
        },
        {
         "name": "_mbsnbcmp",
         "rawType": "int32",
         "type": "integer"
        },
        {
         "name": "_mbsnbcpy",
         "rawType": "int32",
         "type": "integer"
        },
        {
         "name": "_onexit",
         "rawType": "int32",
         "type": "integer"
        },
        {
         "name": "_strnicmp",
         "rawType": "int32",
         "type": "integer"
        },
        {
         "name": "atoi",
         "rawType": "int32",
         "type": "integer"
        },
        {
         "name": "atol",
         "rawType": "int32",
         "type": "integer"
        },
        {
         "name": "exit",
         "rawType": "int32",
         "type": "integer"
        },
        {
         "name": "fclose",
         "rawType": "int32",
         "type": "integer"
        },
        {
         "name": "fopen",
         "rawType": "int32",
         "type": "integer"
        },
        {
         "name": "free",
         "rawType": "int32",
         "type": "integer"
        },
        {
         "name": "fwrite",
         "rawType": "int32",
         "type": "integer"
        },
        {
         "name": "getenv",
         "rawType": "int32",
         "type": "integer"
        },
        {
         "name": "gethostbyname",
         "rawType": "int32",
         "type": "integer"
        },
        {
         "name": "gethostname",
         "rawType": "int32",
         "type": "integer"
        },
        {
         "name": "inet_ntoa",
         "rawType": "int32",
         "type": "integer"
        },
        {
         "name": "mbstowcs",
         "rawType": "int32",
         "type": "integer"
        },
        {
         "name": "memcpy",
         "rawType": "int32",
         "type": "integer"
        },
        {
         "name": "memset",
         "rawType": "int32",
         "type": "integer"
        },
        {
         "name": "printf",
         "rawType": "int32",
         "type": "integer"
        },
        {
         "name": "send",
         "rawType": "int32",
         "type": "integer"
        },
        {
         "name": "setlocale",
         "rawType": "int32",
         "type": "integer"
        },
        {
         "name": "sprintf",
         "rawType": "int32",
         "type": "integer"
        },
        {
         "name": "strcat",
         "rawType": "int32",
         "type": "integer"
        },
        {
         "name": "strcmp",
         "rawType": "int32",
         "type": "integer"
        },
        {
         "name": "strcpy",
         "rawType": "int32",
         "type": "integer"
        },
        {
         "name": "strlen",
         "rawType": "int32",
         "type": "integer"
        },
        {
         "name": "strstr",
         "rawType": "int32",
         "type": "integer"
        },
        {
         "name": "time",
         "rawType": "int32",
         "type": "integer"
        },
        {
         "name": "wcscat",
         "rawType": "int32",
         "type": "integer"
        },
        {
         "name": "wcscmp",
         "rawType": "int32",
         "type": "integer"
        },
        {
         "name": "wcscpy",
         "rawType": "int32",
         "type": "integer"
        },
        {
         "name": "wcslen",
         "rawType": "int32",
         "type": "integer"
        },
        {
         "name": "wcsrchr",
         "rawType": "int32",
         "type": "integer"
        },
        {
         "name": "wcstombs",
         "rawType": "int32",
         "type": "integer"
        }
       ],
       "conversionMethod": "pd.DataFrame",
       "ref": "92779ad6-ac7f-4a76-9df5-ae23c6820db3",
       "rows": [
        [
         "0",
         "0.8201550387596899",
         "0.0",
         "0.625",
         "3",
         "0",
         "0",
         "0",
         "0",
         "1",
         "1",
         "1",
         "1",
         "0",
         "0",
         "0",
         "0",
         "0",
         "0",
         "0",
         "0",
         "0",
         "0",
         "1",
         "1",
         "0",
         "1",
         "0",
         "0",
         "0",
         "0",
         "0",
         "0",
         "1",
         "0",
         "0",
         "0",
         "0",
         "0",
         "0",
         "0",
         "0",
         "0",
         "0",
         "0",
         "0",
         "0",
         "0",
         "0",
         "1",
         "0",
         "0",
         "1",
         "0",
         "0",
         "0",
         "0",
         "0",
         "0",
         "0",
         "0",
         "1",
         "0",
         "0",
         "0",
         "0",
         "0",
         "0",
         "0",
         "0",
         "0",
         "0",
         "1",
         "0",
         "0",
         "0",
         "0",
         "0",
         "0",
         "0",
         "0",
         "0",
         "0",
         "0",
         "0",
         "0",
         "0",
         "0",
         "0",
         "0",
         "1",
         "0",
         "0",
         "0",
         "0",
         "0",
         "0",
         "0",
         "0",
         "0",
         "0",
         "0",
         "0",
         "0",
         "0",
         "0",
         "0",
         "0",
         "0",
         "0",
         "0",
         "1",
         "0",
         "0",
         "0",
         "0",
         "0",
         "0",
         "0",
         "0",
         "0",
         "0",
         "0",
         "0",
         "0",
         "0"
        ],
        [
         "1",
         "0.0031007751937984496",
         "0.0808868408203125",
         "0.0",
         "3",
         "1",
         "1",
         "0",
         "1",
         "0",
         "0",
         "0",
         "0",
         "0",
         "1",
         "0",
         "0",
         "1",
         "1",
         "1",
         "1",
         "0",
         "1",
         "0",
         "0",
         "1",
         "0",
         "1",
         "1",
         "1",
         "0",
         "1",
         "1",
         "0",
         "1",
         "1",
         "0",
         "1",
         "1",
         "1",
         "1",
         "1",
         "1",
         "1",
         "1",
         "1",
         "1",
         "1",
         "1",
         "0",
         "1",
         "1",
         "0",
         "0",
         "0",
         "0",
         "0",
         "1",
         "1",
         "1",
         "1",
         "0",
         "1",
         "0",
         "1",
         "1",
         "0",
         "0",
         "1",
         "1",
         "0",
         "0",
         "0",
         "0",
         "0",
         "1",
         "1",
         "1",
         "1",
         "1",
         "1",
         "1",
         "1",
         "1",
         "1",
         "1",
         "1",
         "1",
         "1",
         "1",
         "0",
         "1",
         "1",
         "1",
         "1",
         "1",
         "1",
         "1",
         "1",
         "1",
         "1",
         "1",
         "1",
         "1",
         "1",
         "1",
         "1",
         "1",
         "1",
         "1",
         "0",
         "0",
         "1",
         "1",
         "1",
         "1",
         "1",
         "1",
         "1",
         "1",
         "1",
         "1",
         "1",
         "1",
         "1",
         "1"
        ],
        [
         "2",
         "0.8511627906976744",
         "0.16486740112304688",
         "0.625",
         "3",
         "0",
         "0",
         "1",
         "0",
         "1",
         "1",
         "0",
         "1",
         "0",
         "0",
         "0",
         "0",
         "0",
         "0",
         "0",
         "0",
         "0",
         "0",
         "1",
         "0",
         "0",
         "1",
         "0",
         "0",
         "0",
         "0",
         "0",
         "0",
         "1",
         "0",
         "0",
         "0",
         "0",
         "0",
         "0",
         "0",
         "0",
         "0",
         "0",
         "0",
         "0",
         "0",
         "0",
         "0",
         "1",
         "0",
         "0",
         "1",
         "0",
         "0",
         "0",
         "0",
         "0",
         "0",
         "0",
         "0",
         "1",
         "0",
         "0",
         "0",
         "0",
         "0",
         "0",
         "0",
         "0",
         "0",
         "0",
         "1",
         "0",
         "1",
         "0",
         "0",
         "0",
         "0",
         "0",
         "0",
         "0",
         "0",
         "0",
         "0",
         "0",
         "0",
         "0",
         "0",
         "0",
         "1",
         "0",
         "0",
         "0",
         "0",
         "0",
         "0",
         "0",
         "0",
         "0",
         "0",
         "0",
         "0",
         "0",
         "0",
         "0",
         "0",
         "0",
         "0",
         "0",
         "0",
         "0",
         "0",
         "0",
         "0",
         "0",
         "0",
         "0",
         "0",
         "0",
         "0",
         "0",
         "0",
         "0",
         "0",
         "0"
        ],
        [
         "3",
         "0.0031007751937984496",
         "0.25518035888671875",
         "0.0",
         "3",
         "1",
         "1",
         "0",
         "1",
         "0",
         "0",
         "0",
         "0",
         "0",
         "1",
         "0",
         "0",
         "1",
         "1",
         "1",
         "1",
         "0",
         "1",
         "0",
         "0",
         "1",
         "0",
         "1",
         "1",
         "1",
         "0",
         "1",
         "1",
         "0",
         "1",
         "1",
         "0",
         "1",
         "1",
         "1",
         "1",
         "1",
         "1",
         "1",
         "1",
         "1",
         "1",
         "1",
         "1",
         "0",
         "1",
         "1",
         "0",
         "0",
         "0",
         "0",
         "0",
         "1",
         "1",
         "1",
         "1",
         "0",
         "1",
         "0",
         "1",
         "1",
         "0",
         "0",
         "1",
         "1",
         "0",
         "0",
         "0",
         "0",
         "0",
         "1",
         "1",
         "1",
         "1",
         "1",
         "1",
         "1",
         "1",
         "1",
         "1",
         "1",
         "1",
         "1",
         "1",
         "1",
         "0",
         "1",
         "1",
         "1",
         "1",
         "1",
         "1",
         "1",
         "1",
         "1",
         "1",
         "1",
         "1",
         "1",
         "1",
         "1",
         "1",
         "1",
         "1",
         "1",
         "0",
         "0",
         "1",
         "1",
         "1",
         "1",
         "1",
         "1",
         "1",
         "1",
         "1",
         "1",
         "1",
         "1",
         "1",
         "1"
        ],
        [
         "4",
         "0.007751937984496124",
         "0.3298835754394531",
         "0.0",
         "4",
         "1",
         "1",
         "1",
         "1",
         "0",
         "0",
         "0",
         "0",
         "1",
         "1",
         "1",
         "1",
         "0",
         "1",
         "1",
         "1",
         "1",
         "1",
         "0",
         "0",
         "1",
         "0",
         "0",
         "1",
         "1",
         "1",
         "0",
         "1",
         "0",
         "0",
         "1",
         "1",
         "1",
         "1",
         "1",
         "1",
         "1",
         "1",
         "1",
         "1",
         "1",
         "1",
         "1",
         "1",
         "0",
         "1",
         "1",
         "0",
         "1",
         "1",
         "1",
         "1",
         "1",
         "1",
         "1",
         "1",
         "0",
         "0",
         "1",
         "0",
         "1",
         "1",
         "0",
         "0",
         "1",
         "1",
         "1",
         "0",
         "0",
         "0",
         "1",
         "1",
         "1",
         "1",
         "1",
         "1",
         "1",
         "1",
         "1",
         "1",
         "1",
         "1",
         "1",
         "1",
         "1",
         "0",
         "1",
         "1",
         "1",
         "1",
         "1",
         "1",
         "1",
         "1",
         "1",
         "1",
         "1",
         "1",
         "1",
         "1",
         "1",
         "1",
         "0",
         "1",
         "1",
         "1",
         "0",
         "0",
         "1",
         "1",
         "1",
         "1",
         "1",
         "1",
         "1",
         "0",
         "0",
         "0",
         "0",
         "0",
         "0"
        ]
       ],
       "shape": {
        "columns": 125,
        "rows": 5
       }
      },
      "text/html": [
       "<div>\n",
       "<style scoped>\n",
       "    .dataframe tbody tr th:only-of-type {\n",
       "        vertical-align: middle;\n",
       "    }\n",
       "\n",
       "    .dataframe tbody tr th {\n",
       "        vertical-align: top;\n",
       "    }\n",
       "\n",
       "    .dataframe thead th {\n",
       "        text-align: right;\n",
       "    }\n",
       "</style>\n",
       "<table border=\"1\" class=\"dataframe\">\n",
       "  <thead>\n",
       "    <tr style=\"text-align: right;\">\n",
       "      <th></th>\n",
       "      <th>file_size</th>\n",
       "      <th>creation_time</th>\n",
       "      <th>modification_time</th>\n",
       "      <th>num_sections</th>\n",
       "      <th>.data</th>\n",
       "      <th>.rdata</th>\n",
       "      <th>.rsrc</th>\n",
       "      <th>.text</th>\n",
       "      <th>UPX0</th>\n",
       "      <th>UPX1</th>\n",
       "      <th>...</th>\n",
       "      <th>strcpy</th>\n",
       "      <th>strlen</th>\n",
       "      <th>strstr</th>\n",
       "      <th>time</th>\n",
       "      <th>wcscat</th>\n",
       "      <th>wcscmp</th>\n",
       "      <th>wcscpy</th>\n",
       "      <th>wcslen</th>\n",
       "      <th>wcsrchr</th>\n",
       "      <th>wcstombs</th>\n",
       "    </tr>\n",
       "  </thead>\n",
       "  <tbody>\n",
       "    <tr>\n",
       "      <th>0</th>\n",
       "      <td>0.820155</td>\n",
       "      <td>0.000000</td>\n",
       "      <td>0.625</td>\n",
       "      <td>3</td>\n",
       "      <td>0</td>\n",
       "      <td>0</td>\n",
       "      <td>0</td>\n",
       "      <td>0</td>\n",
       "      <td>1</td>\n",
       "      <td>1</td>\n",
       "      <td>...</td>\n",
       "      <td>0</td>\n",
       "      <td>0</td>\n",
       "      <td>0</td>\n",
       "      <td>0</td>\n",
       "      <td>0</td>\n",
       "      <td>0</td>\n",
       "      <td>0</td>\n",
       "      <td>0</td>\n",
       "      <td>0</td>\n",
       "      <td>0</td>\n",
       "    </tr>\n",
       "    <tr>\n",
       "      <th>1</th>\n",
       "      <td>0.003101</td>\n",
       "      <td>0.080887</td>\n",
       "      <td>0.000</td>\n",
       "      <td>3</td>\n",
       "      <td>1</td>\n",
       "      <td>1</td>\n",
       "      <td>0</td>\n",
       "      <td>1</td>\n",
       "      <td>0</td>\n",
       "      <td>0</td>\n",
       "      <td>...</td>\n",
       "      <td>1</td>\n",
       "      <td>1</td>\n",
       "      <td>1</td>\n",
       "      <td>1</td>\n",
       "      <td>1</td>\n",
       "      <td>1</td>\n",
       "      <td>1</td>\n",
       "      <td>1</td>\n",
       "      <td>1</td>\n",
       "      <td>1</td>\n",
       "    </tr>\n",
       "    <tr>\n",
       "      <th>2</th>\n",
       "      <td>0.851163</td>\n",
       "      <td>0.164867</td>\n",
       "      <td>0.625</td>\n",
       "      <td>3</td>\n",
       "      <td>0</td>\n",
       "      <td>0</td>\n",
       "      <td>1</td>\n",
       "      <td>0</td>\n",
       "      <td>1</td>\n",
       "      <td>1</td>\n",
       "      <td>...</td>\n",
       "      <td>0</td>\n",
       "      <td>0</td>\n",
       "      <td>0</td>\n",
       "      <td>0</td>\n",
       "      <td>0</td>\n",
       "      <td>0</td>\n",
       "      <td>0</td>\n",
       "      <td>0</td>\n",
       "      <td>0</td>\n",
       "      <td>0</td>\n",
       "    </tr>\n",
       "    <tr>\n",
       "      <th>3</th>\n",
       "      <td>0.003101</td>\n",
       "      <td>0.255180</td>\n",
       "      <td>0.000</td>\n",
       "      <td>3</td>\n",
       "      <td>1</td>\n",
       "      <td>1</td>\n",
       "      <td>0</td>\n",
       "      <td>1</td>\n",
       "      <td>0</td>\n",
       "      <td>0</td>\n",
       "      <td>...</td>\n",
       "      <td>1</td>\n",
       "      <td>1</td>\n",
       "      <td>1</td>\n",
       "      <td>1</td>\n",
       "      <td>1</td>\n",
       "      <td>1</td>\n",
       "      <td>1</td>\n",
       "      <td>1</td>\n",
       "      <td>1</td>\n",
       "      <td>1</td>\n",
       "    </tr>\n",
       "    <tr>\n",
       "      <th>4</th>\n",
       "      <td>0.007752</td>\n",
       "      <td>0.329884</td>\n",
       "      <td>0.000</td>\n",
       "      <td>4</td>\n",
       "      <td>1</td>\n",
       "      <td>1</td>\n",
       "      <td>1</td>\n",
       "      <td>1</td>\n",
       "      <td>0</td>\n",
       "      <td>0</td>\n",
       "      <td>...</td>\n",
       "      <td>1</td>\n",
       "      <td>1</td>\n",
       "      <td>1</td>\n",
       "      <td>1</td>\n",
       "      <td>0</td>\n",
       "      <td>0</td>\n",
       "      <td>0</td>\n",
       "      <td>0</td>\n",
       "      <td>0</td>\n",
       "      <td>0</td>\n",
       "    </tr>\n",
       "  </tbody>\n",
       "</table>\n",
       "<p>5 rows × 125 columns</p>\n",
       "</div>"
      ],
      "text/plain": [
       "   file_size  creation_time  modification_time  num_sections  .data  .rdata  \\\n",
       "0   0.820155       0.000000              0.625             3      0       0   \n",
       "1   0.003101       0.080887              0.000             3      1       1   \n",
       "2   0.851163       0.164867              0.625             3      0       0   \n",
       "3   0.003101       0.255180              0.000             3      1       1   \n",
       "4   0.007752       0.329884              0.000             4      1       1   \n",
       "\n",
       "   .rsrc  .text  UPX0  UPX1  ...  strcpy  strlen  strstr  time  wcscat  \\\n",
       "0      0      0     1     1  ...       0       0       0     0       0   \n",
       "1      0      1     0     0  ...       1       1       1     1       1   \n",
       "2      1      0     1     1  ...       0       0       0     0       0   \n",
       "3      0      1     0     0  ...       1       1       1     1       1   \n",
       "4      1      1     0     0  ...       1       1       1     1       0   \n",
       "\n",
       "   wcscmp  wcscpy  wcslen  wcsrchr  wcstombs  \n",
       "0       0       0       0        0         0  \n",
       "1       1       1       1        1         1  \n",
       "2       0       0       0        0         0  \n",
       "3       1       1       1        1         1  \n",
       "4       0       0       0        0         0  \n",
       "\n",
       "[5 rows x 125 columns]"
      ]
     },
     "execution_count": 17,
     "metadata": {},
     "output_type": "execute_result"
    }
   ],
   "source": [
    "df_processed = df.copy()\n",
    "\n",
    "# Tokenizar las columnas de listas\n",
    "mlb_sections = MultiLabelBinarizer()\n",
    "mlb_imported_functions = MultiLabelBinarizer()\n",
    "\n",
    "# Tokenización de las secciones del archivo\n",
    "sections_encoded = pd.DataFrame(mlb_sections.fit_transform(df_processed['file_sections']), columns=mlb_sections.classes_, index=df_processed.index)\n",
    "\n",
    "# Tokenización de las llamadas a funciones importadas\n",
    "imported_functions_encoded = pd.DataFrame(mlb_imported_functions.fit_transform(df_processed['imported_function_calls']), columns=mlb_imported_functions.classes_, index=df_processed.index)\n",
    "\n",
    "df_processed = pd.concat([df_processed, sections_encoded, imported_functions_encoded], axis=1)\n",
    "df_processed.drop(['file_sections', 'imported_function_calls'], axis=1, inplace=True)\n",
    "scaler = MinMaxScaler()\n",
    "df_processed[['file_size', 'creation_time', 'modification_time']] = scaler.fit_transform(df_processed[['file_size', 'creation_time', 'modification_time']])\n",
    "print(\"Encabezado del Dataset ya Procesado:\")\n",
    "df_processed.head()"
   ]
  },
  {
   "cell_type": "markdown",
   "metadata": {},
   "source": [
    "# Parte 2 \n",
    "## Implementación de algoritmos\n",
    "### Kmeans"
   ]
  }
 ],
 "metadata": {
  "kernelspec": {
   "display_name": "Python 3",
   "language": "python",
   "name": "python3"
  },
  "language_info": {
   "codemirror_mode": {
    "name": "ipython",
    "version": 3
   },
   "file_extension": ".py",
   "mimetype": "text/x-python",
   "name": "python",
   "nbconvert_exporter": "python",
   "pygments_lexer": "ipython3",
   "version": "3.11.0"
  }
 },
 "nbformat": 4,
 "nbformat_minor": 2
}
