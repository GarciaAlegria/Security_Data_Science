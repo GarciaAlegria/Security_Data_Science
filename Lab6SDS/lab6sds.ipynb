{
 "cells": [
  {
   "cell_type": "markdown",
   "metadata": {},
   "source": [
    "# Laboratorio 6: Análisis de tráfico de red\n",
    "## Security Data Science\n",
    "### Universidad del valle de Guatemala\n",
    "\n",
    "Abner Ivan Garcia - 21285"
   ]
  },
  {
   "cell_type": "code",
   "execution_count": 1,
   "metadata": {},
   "outputs": [],
   "source": [
    "from scapy.all import * \n",
    "import pandas as pd \n",
    "import numpy as np \n",
    "import binascii \n",
    "import seaborn as sns\n",
    "sns.set(color_codes=True)\n",
    "%matplotlib inline\n",
    "import matplotlib.pyplot as plt"
   ]
  },
  {
   "cell_type": "markdown",
   "metadata": {},
   "source": [
    "# Preámbulo"
   ]
  },
  {
   "cell_type": "code",
   "execution_count": null,
   "metadata": {},
   "outputs": [
    {
     "name": "stdout",
     "output_type": "stream",
     "text": [
      "Tipo de variable: <class 'scapy.plist.PacketList'>\n",
      "Longitud de la variable: 25\n",
      "Contenido de la variable: <Sniffed: TCP:25 UDP:0 ICMP:0 Other:0>\n",
      "Tipo de dato del primer paquete capturado: <class 'scapy.layers.l2.Ether'>\n",
      "\n",
      "Contenido de los primeros 5 paquetes capturados:\n",
      "Paquete 1 : Ether / IP / TCP 192.168.1.86:53005 > 20.42.65.90:https S\n",
      "Paquete 2 : Ether / IP / TCP 192.168.1.86:53006 > 104.22.0.235:https S\n",
      "Paquete 3 : Ether / IP / TCP 104.22.0.235:https > 192.168.1.86:53006 SA\n",
      "Paquete 4 : Ether / IP / TCP 192.168.1.86:53006 > 104.22.0.235:https A\n",
      "Paquete 5 : Ether / IP / TCP 192.168.1.86:53006 > 104.22.0.235:https PA / Raw\n"
     ]
    }
   ],
   "source": [
    "# Capture 25 paquetes de su red doméstica\n",
    "captured_packets = sniff(count=25)\n",
    "\n",
    "# Imprimiendo tipo de variable, longitud y contenido\n",
    "print(\"Tipo de variable:\", type(captured_packets))\n",
    "print(\"Longitud de la variable:\", len(captured_packets))\n",
    "print(\"Contenido de la variable:\", captured_packets)\n",
    "\n",
    "# Imprimiendo el tipo de dato del primer paquete capturado\n",
    "first_packet = captured_packets[0]\n",
    "print(\"Tipo de dato del primer paquete capturado:\", type(first_packet))\n",
    "\n",
    "# Imprimiendo contenido de 5 paquetes\n",
    "print(\"\\nContenido de los primeros 5 paquetes capturados:\")\n",
    "for i in range(5):\n",
    "    print(\"Paquete\", i+1, \":\", captured_packets[i].summary())"
   ]
  },
  {
   "cell_type": "markdown",
   "metadata": {},
   "source": [
    "# Análisis estadístico"
   ]
  }
 ],
 "metadata": {
  "kernelspec": {
   "display_name": "Python 3",
   "language": "python",
   "name": "python3"
  },
  "language_info": {
   "codemirror_mode": {
    "name": "ipython",
    "version": 3
   },
   "file_extension": ".py",
   "mimetype": "text/x-python",
   "name": "python",
   "nbconvert_exporter": "python",
   "pygments_lexer": "ipython3",
   "version": "3.11.0"
  }
 },
 "nbformat": 4,
 "nbformat_minor": 2
}
