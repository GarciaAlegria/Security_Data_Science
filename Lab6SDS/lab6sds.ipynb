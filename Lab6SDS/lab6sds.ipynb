{
 "cells": [
  {
   "cell_type": "markdown",
   "metadata": {},
   "source": [
    "# Laboratorio 6: Análisis de tráfico de red\n",
    "## Security Data Science\n",
    "### Universidad del valle de Guatemala\n",
    "\n",
    "Abner Ivan Garcia - 21285"
   ]
  },
  {
   "cell_type": "code",
   "execution_count": 1,
   "metadata": {},
   "outputs": [],
   "source": [
    "from scapy.all import * \n",
    "import pandas as pd \n",
    "import numpy as np \n",
    "import binascii \n",
    "import seaborn as sns\n",
    "sns.set(color_codes=True)\n",
    "%matplotlib inline\n",
    "import matplotlib.pyplot as plt"
   ]
  },
  {
   "cell_type": "markdown",
   "metadata": {},
   "source": [
    "# Preámbulo"
   ]
  },
  {
   "cell_type": "code",
   "execution_count": null,
   "metadata": {},
   "outputs": [
    {
     "name": "stdout",
     "output_type": "stream",
     "text": [
      "Tipo de variable: <class 'scapy.plist.PacketList'>\n",
      "Longitud de la variable: 25\n",
      "Contenido de la variable: <Sniffed: TCP:25 UDP:0 ICMP:0 Other:0>\n",
      "Tipo de dato del primer paquete capturado: <class 'scapy.layers.l2.Ether'>\n",
      "\n",
      "Contenido de los primeros 5 paquetes capturados:\n",
      "Paquete 1 : Ether / IP / TCP 192.168.1.86:53005 > 20.42.65.90:https S\n",
      "Paquete 2 : Ether / IP / TCP 192.168.1.86:53006 > 104.22.0.235:https S\n",
      "Paquete 3 : Ether / IP / TCP 104.22.0.235:https > 192.168.1.86:53006 SA\n",
      "Paquete 4 : Ether / IP / TCP 192.168.1.86:53006 > 104.22.0.235:https A\n",
      "Paquete 5 : Ether / IP / TCP 192.168.1.86:53006 > 104.22.0.235:https PA / Raw\n"
     ]
    }
   ],
   "source": [
    "# Capture 25 paquetes de su red doméstica\n",
    "captured_packets = sniff(count=25)\n",
    "\n",
    "# Imprimiendo tipo de variable, longitud y contenido\n",
    "print(\"Tipo de variable:\", type(captured_packets))\n",
    "print(\"Longitud de la variable:\", len(captured_packets))\n",
    "print(\"Contenido de la variable:\", captured_packets)\n",
    "\n",
    "# Imprimiendo el tipo de dato del primer paquete capturado\n",
    "first_packet = captured_packets[0]\n",
    "print(\"Tipo de dato del primer paquete capturado:\", type(first_packet))\n",
    "\n",
    "# Imprimiendo contenido de 5 paquetes\n",
    "print(\"\\nContenido de los primeros 5 paquetes capturados:\")\n",
    "for i in range(5):\n",
    "    print(\"Paquete\", i+1, \":\", captured_packets[i].summary())"
   ]
  },
  {
   "cell_type": "markdown",
   "metadata": {},
   "source": [
    "# Análisis estadístico"
   ]
  },
  {
   "cell_type": "code",
   "execution_count": null,
   "metadata": {},
   "outputs": [
    {
     "name": "stdout",
     "output_type": "stream",
     "text": [
      "                Time  Src Address  Dst Address  Src Port  Dst Port  Payload\n",
      "0  1532199330.917674   10.1.10.53  84.54.22.33        53        53      905\n",
      "1  1532199330.950107  84.54.22.33   10.1.10.53        53        53        0\n",
      "2  1532199331.937777   10.1.10.53  84.54.22.33        53        53      919\n",
      "3  1532199331.956635  84.54.22.33   10.1.10.53        53        53        0\n",
      "4  1532199332.960504   10.1.10.53  84.54.22.33        53        53      956\n"
     ]
    }
   ],
   "source": [
    "paquete_pcap = rdpcap(\"analisis_paquetes.pcap\") # obteniendo el archivo pcap \n",
    "\n",
    "df = pd.DataFrame() # creando un DataFrame vacío para almacenar los datos de los paquetes\n",
    "\n",
    "# Iterando sobre los paquetes en paquete_pcap que se ha leído a partir del archivo pcap\n",
    "for i, packet in enumerate(paquete_pcap):\n",
    "    \n",
    "    # Obtenemos el tiempo de captura del paquete \n",
    "    tiempo = packet.time\n",
    "    \n",
    "    # Verificamos si el paquete tiene la capa IP el cual contiene la dirección IP de origen y destino\n",
    "    if IP in packet:\n",
    "        # Si la capa IP existe, se accede a los campos 'src' y 'dst' donde se encuentran las direcciones IP de origen y destino\n",
    "        src_address = packet[IP].src\n",
    "        dst_address = packet[IP].dst\n",
    "    else:\n",
    "        src_address = None\n",
    "        dst_address = None\n",
    "\n",
    "    # Verificando si el paquete tiene la capa TCP o UDP\n",
    "    if TCP in packet:\n",
    "        # Si la capa TCP existe, se accede a los campos 'sport' y 'dport'\n",
    "        src_port = packet[TCP].sport\n",
    "        dst_port = packet[TCP].dport\n",
    "    elif UDP in packet:\n",
    "        # Si la capa UDP existe, se accede a los campos 'sport' y 'dport'\n",
    "        src_port = packet[UDP].sport\n",
    "        dst_port = packet[UDP].dport\n",
    "    else:\n",
    "        src_port = None # si no hay capa TCP o UDP, se asigna None\n",
    "        dst_port = None # si no hay capa TCP o UDP, se asigna None\n",
    "    \n",
    "    # Verificando si el paquete tiene la capa Raw (payload)\n",
    "    if Raw in packet:\n",
    "        # Si la capa Raw existe, se accede al payload\n",
    "        payload = len(packet[Raw].load)\n",
    "    else:\n",
    "        payload = 0 # si no hay capa Raw, se asigna 0 al payload\n",
    "\n",
    "  # Añadiendo los campos al DataFrame\n",
    "    df_temp = pd.DataFrame({'Time': [tiempo], 'Src Address': [src_address], 'Dst Address': [dst_address], 'Src Port': [src_port], 'Dst Port': [dst_port], 'Payload': [payload]})\n",
    "    df = pd.concat([df, df_temp], ignore_index=True) # concatenando el DataFrame temporal al DataFrame principal\n",
    "\n",
    "print(df.head()) # Imprimiendo las primeras filas del DataFrame "
   ]
  },
  {
   "cell_type": "markdown",
   "metadata": {},
   "source": [
    "# 5. Estadísticas\n",
    "#### a. Muestre todas las IP origen"
   ]
  }
 ],
 "metadata": {
  "kernelspec": {
   "display_name": "Python 3",
   "language": "python",
   "name": "python3"
  },
  "language_info": {
   "codemirror_mode": {
    "name": "ipython",
    "version": 3
   },
   "file_extension": ".py",
   "mimetype": "text/x-python",
   "name": "python",
   "nbconvert_exporter": "python",
   "pygments_lexer": "ipython3",
   "version": "3.11.0"
  }
 },
 "nbformat": 4,
 "nbformat_minor": 2
}
