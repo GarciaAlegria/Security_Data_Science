{
 "cells": [
  {
   "cell_type": "markdown",
   "id": "1eb777f0",
   "metadata": {},
   "source": [
    "# Laboratorio 8 Clasificación de Malware con DL\n",
    "## Security Data Science\n",
    "### Universidad del valle de Guatemala\n",
    "\n",
    "Abner Ivan Garcia - 21285\n",
    "\n",
    "Oscar Esteba Donis - 21610"
   ]
  },
  {
   "cell_type": "markdown",
   "id": "90e11002",
   "metadata": {},
   "source": [
    "### Obteniendo Librerias"
   ]
  },
  {
   "cell_type": "code",
   "execution_count": null,
   "id": "cd3b3c4a",
   "metadata": {},
   "outputs": [],
   "source": [
    "import numpy as np\n",
    "import matplotlib.pyplot as plt\n",
    "from sklearn.model_selection import train_test_split\n",
    "from sklearn.preprocessing import LabelBinarizer\n",
    "from keras.models import Sequential\n",
    "from keras.layers import Conv2D, MaxPooling2D, Flatten, Dense, Dropout\n",
    "import tensorflow as tf"
   ]
  }
 ],
 "metadata": {
  "language_info": {
   "name": "python"
  }
 },
 "nbformat": 4,
 "nbformat_minor": 5
}
